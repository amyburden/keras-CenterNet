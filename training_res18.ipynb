{
 "cells": [
  {
   "cell_type": "code",
   "execution_count": 1,
   "metadata": {
    "scrolled": true
   },
   "outputs": [
    {
     "name": "stderr",
     "output_type": "stream",
     "text": [
      "/home/bodong/anaconda2/lib/python2.7/site-packages/h5py/__init__.py:36: FutureWarning: Conversion of the second argument of issubdtype from `float` to `np.floating` is deprecated. In future, it will be treated as `np.float64 == np.dtype(float).type`.\n",
      "  from ._conv import register_converters as _register_converters\n",
      "Using TensorFlow backend.\n"
     ]
    }
   ],
   "source": [
    "from keras.models import *\n",
    "from losses import *\n",
    "import matplotlib.pyplot as plt\n",
    "%matplotlib inline"
   ]
  },
  {
   "cell_type": "code",
   "execution_count": 2,
   "metadata": {},
   "outputs": [],
   "source": [
    "# from models.dla import DLA\n",
    "# from models.centernet import centernet, DLA_seg\n",
    "\n",
    "from models.resnet import centernet\n",
    "import os\n",
    "os.environ[\"CUDA_VISIBLE_DEVICES\"]=\"0\"\n",
    "from keras.utils import multi_gpu_model"
   ]
  },
  {
   "cell_type": "code",
   "execution_count": 3,
   "metadata": {},
   "outputs": [],
   "source": [
    "import keras.backend as K\n",
    "import tensorflow as tf\n",
    "## gpu option\n",
    "K.clear_session()\n",
    "\n",
    "num_of_gpu = len(os.environ[\"CUDA_VISIBLE_DEVICES\"].split(','))\n",
    "# gpu_options = tf.GPUOptions(per_process_gpu_memory_fraction=0.9)\n",
    "# sess = tf.Session(config=tf.ConfigProto(gpu_options=gpu_options))\n",
    "# K.set_session(sess)"
   ]
  },
  {
   "cell_type": "code",
   "execution_count": 4,
   "metadata": {},
   "outputs": [
    {
     "name": "stdout",
     "output_type": "stream",
     "text": [
      "WARNING:tensorflow:From /home/bodong/anaconda2/lib/python2.7/site-packages/tensorflow/python/framework/op_def_library.py:263: colocate_with (from tensorflow.python.framework.ops) is deprecated and will be removed in a future version.\n",
      "Instructions for updating:\n",
      "Colocations handled automatically by placer.\n",
      "WARNING:tensorflow:From /home/bodong/anaconda2/lib/python2.7/site-packages/keras/backend/tensorflow_backend.py:3445: calling dropout (from tensorflow.python.ops.nn_ops) with keep_prob is deprecated and will be removed in a future version.\n",
      "Instructions for updating:\n",
      "Please use `rate` instead of `keep_prob`. Rate should be set to `rate = 1 - keep_prob`.\n",
      "[(None, 128, 128, 80), (None, 128, 128, 2), (None, 128, 128, 2), (None, 128, 128, 80), (None, 100, 2), (None, 100), (None, 100, 2), (None, 100), (None, 100)]\n"
     ]
    }
   ],
   "source": [
    "shape = (512,512,3)\n",
    "num_classes = 80\n",
    "cat_spec_wh = False\n",
    "return_model_only = True\n",
    "# dla_model = DLA(shape,return_levels=True)\n",
    "# model, pred_model,debug_model = centernet(shape, dla_model, 20)\n",
    "# pred_model.predict(np.random.random((1,512,512,3)))\n",
    "# pred_model.summary()\n",
    "if num_of_gpu <= 1:\n",
    "    model, prediction_model, debug_model = centernet(num_classes=num_classes, input_size=shape[0],\n",
    "                                                         freeze_bn=False,cat_spec_wh=cat_spec_wh)\n",
    "else:\n",
    "    with tf.device(\"/cpu:0\"):\n",
    "        model_ = centernet(num_classes=num_classes, input_size=shape[0],\n",
    "                                                         freeze_bn=False,cat_spec_wh=cat_spec_wh,return_model_only=return_model_only)\n",
    "    model = multi_gpu_model(model_, gpus=num_of_gpu)\n",
    "#     prediction_model = prediction_model_"
   ]
  },
  {
   "cell_type": "code",
   "execution_count": 5,
   "metadata": {},
   "outputs": [
    {
     "name": "stdout",
     "output_type": "stream",
     "text": [
      "__________________________________________________________________________________________________\n",
      "Layer (type)                    Output Shape         Param #     Connected to                     \n",
      "==================================================================================================\n",
      "input_1 (InputLayer)            (None, 512, 512, 3)  0                                            \n",
      "__________________________________________________________________________________________________\n",
      "conv1 (Conv2D)                  (None, 256, 256, 64) 9408        input_1[0][0]                    \n",
      "__________________________________________________________________________________________________\n",
      "bn_conv1 (BatchNormalization)   (None, 256, 256, 64) 256         conv1[0][0]                      \n",
      "__________________________________________________________________________________________________\n",
      "conv1_relu (Activation)         (None, 256, 256, 64) 0           bn_conv1[0][0]                   \n",
      "__________________________________________________________________________________________________\n",
      "pool1 (MaxPooling2D)            (None, 128, 128, 64) 0           conv1_relu[0][0]                 \n",
      "__________________________________________________________________________________________________\n",
      "padding2a_branch2a (ZeroPadding (None, 130, 130, 64) 0           pool1[0][0]                      \n",
      "__________________________________________________________________________________________________\n",
      "res2a_branch2a (Conv2D)         (None, 128, 128, 64) 36864       padding2a_branch2a[0][0]         \n",
      "__________________________________________________________________________________________________\n",
      "bn2a_branch2a (BatchNormalizati (None, 128, 128, 64) 256         res2a_branch2a[0][0]             \n",
      "__________________________________________________________________________________________________\n",
      "res2a_branch2a_relu (Activation (None, 128, 128, 64) 0           bn2a_branch2a[0][0]              \n",
      "__________________________________________________________________________________________________\n",
      "padding2a_branch2b (ZeroPadding (None, 130, 130, 64) 0           res2a_branch2a_relu[0][0]        \n",
      "__________________________________________________________________________________________________\n",
      "res2a_branch2b (Conv2D)         (None, 128, 128, 64) 36864       padding2a_branch2b[0][0]         \n",
      "__________________________________________________________________________________________________\n",
      "res2a_branch1 (Conv2D)          (None, 128, 128, 64) 4096        pool1[0][0]                      \n",
      "__________________________________________________________________________________________________\n",
      "bn2a_branch2b (BatchNormalizati (None, 128, 128, 64) 256         res2a_branch2b[0][0]             \n",
      "__________________________________________________________________________________________________\n",
      "bn2a_branch1 (BatchNormalizatio (None, 128, 128, 64) 256         res2a_branch1[0][0]              \n",
      "__________________________________________________________________________________________________\n",
      "res2a (Add)                     (None, 128, 128, 64) 0           bn2a_branch2b[0][0]              \n",
      "                                                                 bn2a_branch1[0][0]               \n",
      "__________________________________________________________________________________________________\n",
      "res2a_relu (Activation)         (None, 128, 128, 64) 0           res2a[0][0]                      \n",
      "__________________________________________________________________________________________________\n",
      "padding2b1_branch2a (ZeroPaddin (None, 130, 130, 64) 0           res2a_relu[0][0]                 \n",
      "__________________________________________________________________________________________________\n",
      "res2b1_branch2a (Conv2D)        (None, 128, 128, 64) 36864       padding2b1_branch2a[0][0]        \n",
      "__________________________________________________________________________________________________\n",
      "bn2b1_branch2a (BatchNormalizat (None, 128, 128, 64) 256         res2b1_branch2a[0][0]            \n",
      "__________________________________________________________________________________________________\n",
      "res2b1_branch2a_relu (Activatio (None, 128, 128, 64) 0           bn2b1_branch2a[0][0]             \n",
      "__________________________________________________________________________________________________\n",
      "padding2b1_branch2b (ZeroPaddin (None, 130, 130, 64) 0           res2b1_branch2a_relu[0][0]       \n",
      "__________________________________________________________________________________________________\n",
      "res2b1_branch2b (Conv2D)        (None, 128, 128, 64) 36864       padding2b1_branch2b[0][0]        \n",
      "__________________________________________________________________________________________________\n",
      "bn2b1_branch2b (BatchNormalizat (None, 128, 128, 64) 256         res2b1_branch2b[0][0]            \n",
      "__________________________________________________________________________________________________\n",
      "res2b1 (Add)                    (None, 128, 128, 64) 0           bn2b1_branch2b[0][0]             \n",
      "                                                                 res2a_relu[0][0]                 \n",
      "__________________________________________________________________________________________________\n",
      "res2b1_relu (Activation)        (None, 128, 128, 64) 0           res2b1[0][0]                     \n",
      "__________________________________________________________________________________________________\n",
      "padding3a_branch2a (ZeroPadding (None, 130, 130, 64) 0           res2b1_relu[0][0]                \n",
      "__________________________________________________________________________________________________\n",
      "res3a_branch2a (Conv2D)         (None, 64, 64, 128)  73728       padding3a_branch2a[0][0]         \n",
      "__________________________________________________________________________________________________\n",
      "bn3a_branch2a (BatchNormalizati (None, 64, 64, 128)  512         res3a_branch2a[0][0]             \n",
      "__________________________________________________________________________________________________\n",
      "res3a_branch2a_relu (Activation (None, 64, 64, 128)  0           bn3a_branch2a[0][0]              \n",
      "__________________________________________________________________________________________________\n",
      "padding3a_branch2b (ZeroPadding (None, 66, 66, 128)  0           res3a_branch2a_relu[0][0]        \n",
      "__________________________________________________________________________________________________\n",
      "res3a_branch2b (Conv2D)         (None, 64, 64, 128)  147456      padding3a_branch2b[0][0]         \n",
      "__________________________________________________________________________________________________\n",
      "res3a_branch1 (Conv2D)          (None, 64, 64, 128)  8192        res2b1_relu[0][0]                \n",
      "__________________________________________________________________________________________________\n",
      "bn3a_branch2b (BatchNormalizati (None, 64, 64, 128)  512         res3a_branch2b[0][0]             \n",
      "__________________________________________________________________________________________________\n",
      "bn3a_branch1 (BatchNormalizatio (None, 64, 64, 128)  512         res3a_branch1[0][0]              \n",
      "__________________________________________________________________________________________________\n",
      "res3a (Add)                     (None, 64, 64, 128)  0           bn3a_branch2b[0][0]              \n",
      "                                                                 bn3a_branch1[0][0]               \n",
      "__________________________________________________________________________________________________\n",
      "res3a_relu (Activation)         (None, 64, 64, 128)  0           res3a[0][0]                      \n",
      "__________________________________________________________________________________________________\n",
      "padding3b1_branch2a (ZeroPaddin (None, 66, 66, 128)  0           res3a_relu[0][0]                 \n",
      "__________________________________________________________________________________________________\n",
      "res3b1_branch2a (Conv2D)        (None, 64, 64, 128)  147456      padding3b1_branch2a[0][0]        \n",
      "__________________________________________________________________________________________________\n",
      "bn3b1_branch2a (BatchNormalizat (None, 64, 64, 128)  512         res3b1_branch2a[0][0]            \n",
      "__________________________________________________________________________________________________\n",
      "res3b1_branch2a_relu (Activatio (None, 64, 64, 128)  0           bn3b1_branch2a[0][0]             \n",
      "__________________________________________________________________________________________________\n",
      "padding3b1_branch2b (ZeroPaddin (None, 66, 66, 128)  0           res3b1_branch2a_relu[0][0]       \n",
      "__________________________________________________________________________________________________\n",
      "res3b1_branch2b (Conv2D)        (None, 64, 64, 128)  147456      padding3b1_branch2b[0][0]        \n",
      "__________________________________________________________________________________________________\n",
      "bn3b1_branch2b (BatchNormalizat (None, 64, 64, 128)  512         res3b1_branch2b[0][0]            \n",
      "__________________________________________________________________________________________________\n",
      "res3b1 (Add)                    (None, 64, 64, 128)  0           bn3b1_branch2b[0][0]             \n",
      "                                                                 res3a_relu[0][0]                 \n",
      "__________________________________________________________________________________________________\n",
      "res3b1_relu (Activation)        (None, 64, 64, 128)  0           res3b1[0][0]                     \n",
      "__________________________________________________________________________________________________\n",
      "padding4a_branch2a (ZeroPadding (None, 66, 66, 128)  0           res3b1_relu[0][0]                \n",
      "__________________________________________________________________________________________________\n",
      "res4a_branch2a (Conv2D)         (None, 32, 32, 256)  294912      padding4a_branch2a[0][0]         \n",
      "__________________________________________________________________________________________________\n",
      "bn4a_branch2a (BatchNormalizati (None, 32, 32, 256)  1024        res4a_branch2a[0][0]             \n",
      "__________________________________________________________________________________________________\n",
      "res4a_branch2a_relu (Activation (None, 32, 32, 256)  0           bn4a_branch2a[0][0]              \n",
      "__________________________________________________________________________________________________\n",
      "padding4a_branch2b (ZeroPadding (None, 34, 34, 256)  0           res4a_branch2a_relu[0][0]        \n",
      "__________________________________________________________________________________________________\n",
      "res4a_branch2b (Conv2D)         (None, 32, 32, 256)  589824      padding4a_branch2b[0][0]         \n",
      "__________________________________________________________________________________________________\n",
      "res4a_branch1 (Conv2D)          (None, 32, 32, 256)  32768       res3b1_relu[0][0]                \n",
      "__________________________________________________________________________________________________\n",
      "bn4a_branch2b (BatchNormalizati (None, 32, 32, 256)  1024        res4a_branch2b[0][0]             \n",
      "__________________________________________________________________________________________________\n",
      "bn4a_branch1 (BatchNormalizatio (None, 32, 32, 256)  1024        res4a_branch1[0][0]              \n",
      "__________________________________________________________________________________________________\n",
      "res4a (Add)                     (None, 32, 32, 256)  0           bn4a_branch2b[0][0]              \n",
      "                                                                 bn4a_branch1[0][0]               \n",
      "__________________________________________________________________________________________________\n",
      "res4a_relu (Activation)         (None, 32, 32, 256)  0           res4a[0][0]                      \n",
      "__________________________________________________________________________________________________\n",
      "padding4b1_branch2a (ZeroPaddin (None, 34, 34, 256)  0           res4a_relu[0][0]                 \n",
      "__________________________________________________________________________________________________\n",
      "res4b1_branch2a (Conv2D)        (None, 32, 32, 256)  589824      padding4b1_branch2a[0][0]        \n",
      "__________________________________________________________________________________________________\n",
      "bn4b1_branch2a (BatchNormalizat (None, 32, 32, 256)  1024        res4b1_branch2a[0][0]            \n",
      "__________________________________________________________________________________________________\n",
      "res4b1_branch2a_relu (Activatio (None, 32, 32, 256)  0           bn4b1_branch2a[0][0]             \n",
      "__________________________________________________________________________________________________\n",
      "padding4b1_branch2b (ZeroPaddin (None, 34, 34, 256)  0           res4b1_branch2a_relu[0][0]       \n",
      "__________________________________________________________________________________________________\n",
      "res4b1_branch2b (Conv2D)        (None, 32, 32, 256)  589824      padding4b1_branch2b[0][0]        \n",
      "__________________________________________________________________________________________________\n",
      "bn4b1_branch2b (BatchNormalizat (None, 32, 32, 256)  1024        res4b1_branch2b[0][0]            \n",
      "__________________________________________________________________________________________________\n",
      "res4b1 (Add)                    (None, 32, 32, 256)  0           bn4b1_branch2b[0][0]             \n",
      "                                                                 res4a_relu[0][0]                 \n",
      "__________________________________________________________________________________________________\n",
      "res4b1_relu (Activation)        (None, 32, 32, 256)  0           res4b1[0][0]                     \n",
      "__________________________________________________________________________________________________\n",
      "padding5a_branch2a (ZeroPadding (None, 34, 34, 256)  0           res4b1_relu[0][0]                \n",
      "__________________________________________________________________________________________________\n",
      "res5a_branch2a (Conv2D)         (None, 16, 16, 512)  1179648     padding5a_branch2a[0][0]         \n",
      "__________________________________________________________________________________________________\n",
      "bn5a_branch2a (BatchNormalizati (None, 16, 16, 512)  2048        res5a_branch2a[0][0]             \n",
      "__________________________________________________________________________________________________\n",
      "res5a_branch2a_relu (Activation (None, 16, 16, 512)  0           bn5a_branch2a[0][0]              \n",
      "__________________________________________________________________________________________________\n",
      "padding5a_branch2b (ZeroPadding (None, 18, 18, 512)  0           res5a_branch2a_relu[0][0]        \n",
      "__________________________________________________________________________________________________\n",
      "res5a_branch2b (Conv2D)         (None, 16, 16, 512)  2359296     padding5a_branch2b[0][0]         \n",
      "__________________________________________________________________________________________________\n",
      "res5a_branch1 (Conv2D)          (None, 16, 16, 512)  131072      res4b1_relu[0][0]                \n",
      "__________________________________________________________________________________________________\n",
      "bn5a_branch2b (BatchNormalizati (None, 16, 16, 512)  2048        res5a_branch2b[0][0]             \n",
      "__________________________________________________________________________________________________\n",
      "bn5a_branch1 (BatchNormalizatio (None, 16, 16, 512)  2048        res5a_branch1[0][0]              \n",
      "__________________________________________________________________________________________________\n",
      "res5a (Add)                     (None, 16, 16, 512)  0           bn5a_branch2b[0][0]              \n",
      "                                                                 bn5a_branch1[0][0]               \n",
      "__________________________________________________________________________________________________\n",
      "res5a_relu (Activation)         (None, 16, 16, 512)  0           res5a[0][0]                      \n",
      "__________________________________________________________________________________________________\n",
      "padding5b1_branch2a (ZeroPaddin (None, 18, 18, 512)  0           res5a_relu[0][0]                 \n",
      "__________________________________________________________________________________________________\n",
      "res5b1_branch2a (Conv2D)        (None, 16, 16, 512)  2359296     padding5b1_branch2a[0][0]        \n",
      "__________________________________________________________________________________________________\n",
      "bn5b1_branch2a (BatchNormalizat (None, 16, 16, 512)  2048        res5b1_branch2a[0][0]            \n",
      "__________________________________________________________________________________________________\n",
      "res5b1_branch2a_relu (Activatio (None, 16, 16, 512)  0           bn5b1_branch2a[0][0]             \n",
      "__________________________________________________________________________________________________\n",
      "padding5b1_branch2b (ZeroPaddin (None, 18, 18, 512)  0           res5b1_branch2a_relu[0][0]       \n",
      "__________________________________________________________________________________________________\n",
      "res5b1_branch2b (Conv2D)        (None, 16, 16, 512)  2359296     padding5b1_branch2b[0][0]        \n",
      "__________________________________________________________________________________________________\n",
      "bn5b1_branch2b (BatchNormalizat (None, 16, 16, 512)  2048        res5b1_branch2b[0][0]            \n",
      "__________________________________________________________________________________________________\n",
      "res5b1 (Add)                    (None, 16, 16, 512)  0           bn5b1_branch2b[0][0]             \n",
      "                                                                 res5a_relu[0][0]                 \n",
      "__________________________________________________________________________________________________\n",
      "res5b1_relu (Activation)        (None, 16, 16, 512)  0           res5b1[0][0]                     \n",
      "__________________________________________________________________________________________________\n",
      "dropout_1 (Dropout)             (None, 16, 16, 512)  0           res5b1_relu[0][0]                \n",
      "__________________________________________________________________________________________________\n",
      "up_sampling2d_1 (UpSampling2D)  (None, 32, 32, 512)  0           dropout_1[0][0]                  \n",
      "__________________________________________________________________________________________________\n",
      "conv2d_1 (Conv2D)               (None, 32, 32, 256)  2097152     up_sampling2d_1[0][0]            \n",
      "__________________________________________________________________________________________________\n",
      "batch_normalization_1 (BatchNor (None, 32, 32, 256)  1024        conv2d_1[0][0]                   \n",
      "__________________________________________________________________________________________________\n",
      "re_lu_1 (ReLU)                  (None, 32, 32, 256)  0           batch_normalization_1[0][0]      \n",
      "__________________________________________________________________________________________________\n",
      "up_sampling2d_2 (UpSampling2D)  (None, 64, 64, 256)  0           re_lu_1[0][0]                    \n",
      "__________________________________________________________________________________________________\n",
      "conv2d_2 (Conv2D)               (None, 64, 64, 128)  524288      up_sampling2d_2[0][0]            \n",
      "__________________________________________________________________________________________________\n",
      "batch_normalization_2 (BatchNor (None, 64, 64, 128)  512         conv2d_2[0][0]                   \n",
      "__________________________________________________________________________________________________\n",
      "re_lu_2 (ReLU)                  (None, 64, 64, 128)  0           batch_normalization_2[0][0]      \n",
      "__________________________________________________________________________________________________\n",
      "up_sampling2d_3 (UpSampling2D)  (None, 128, 128, 128 0           re_lu_2[0][0]                    \n",
      "__________________________________________________________________________________________________\n",
      "conv2d_3 (Conv2D)               (None, 128, 128, 64) 131072      up_sampling2d_3[0][0]            \n",
      "__________________________________________________________________________________________________\n",
      "batch_normalization_3 (BatchNor (None, 128, 128, 64) 256         conv2d_3[0][0]                   \n",
      "__________________________________________________________________________________________________\n",
      "re_lu_3 (ReLU)                  (None, 128, 128, 64) 0           batch_normalization_3[0][0]      \n",
      "__________________________________________________________________________________________________\n",
      "conv2d_4 (Conv2D)               (None, 128, 128, 64) 36928       re_lu_3[0][0]                    \n",
      "__________________________________________________________________________________________________\n",
      "conv2d_6 (Conv2D)               (None, 128, 128, 64) 36928       re_lu_3[0][0]                    \n",
      "__________________________________________________________________________________________________\n",
      "conv2d_8 (Conv2D)               (None, 128, 128, 64) 36928       re_lu_3[0][0]                    \n",
      "__________________________________________________________________________________________________\n",
      "conv2d_5 (Conv2D)               (None, 128, 128, 80) 5200        conv2d_4[0][0]                   \n",
      "__________________________________________________________________________________________________\n",
      "conv2d_7 (Conv2D)               (None, 128, 128, 2)  130         conv2d_6[0][0]                   \n",
      "__________________________________________________________________________________________________\n",
      "conv2d_9 (Conv2D)               (None, 128, 128, 2)  130         conv2d_8[0][0]                   \n",
      "__________________________________________________________________________________________________\n",
      "input_2 (InputLayer)            (None, 128, 128, 80) 0                                            \n",
      "__________________________________________________________________________________________________\n",
      "input_3 (InputLayer)            (None, 100, 2)       0                                            \n",
      "__________________________________________________________________________________________________\n",
      "input_4 (InputLayer)            (None, 100)          0                                            \n",
      "__________________________________________________________________________________________________\n",
      "input_5 (InputLayer)            (None, 100, 2)       0                                            \n",
      "__________________________________________________________________________________________________\n",
      "input_6 (InputLayer)            (None, 100)          0                                            \n",
      "__________________________________________________________________________________________________\n",
      "input_7 (InputLayer)            (None, 100)          0                                            \n",
      "__________________________________________________________________________________________________\n",
      "centernet_loss (CTLoss)         (1,)                 0           conv2d_5[0][0]                   \n",
      "                                                                 conv2d_7[0][0]                   \n",
      "                                                                 conv2d_9[0][0]                   \n",
      "                                                                 input_2[0][0]                    \n",
      "                                                                 input_3[0][0]                    \n",
      "                                                                 input_4[0][0]                    \n",
      "                                                                 input_5[0][0]                    \n",
      "                                                                 input_6[0][0]                    \n",
      "                                                                 input_7[0][0]                    \n",
      "==================================================================================================\n",
      "Total params: 14,061,012\n",
      "Trainable params: 14,050,388\n",
      "Non-trainable params: 10,624\n",
      "__________________________________________________________________________________________________\n"
     ]
    }
   ],
   "source": [
    "model.summary()"
   ]
  },
  {
   "cell_type": "code",
   "execution_count": 6,
   "metadata": {},
   "outputs": [],
   "source": [
    "model.load_weights('haha.hdf5')"
   ]
  },
  {
   "cell_type": "code",
   "execution_count": 7,
   "metadata": {},
   "outputs": [],
   "source": [
    "from augmentor.data_augmentation_chain_variable_input_size import DataAugmentationVariableInputSize\n",
    "from augmentor.object_detection_2d_geometric_ops import Resize\n",
    "from augmentor.object_detection_2d_patch_sampling_ops import RandomPadFixedAR\n",
    "from augmentor.object_detection_2d_photometric_ops import ConvertTo3Channels\n",
    "data_augmentation_chain = DataAugmentationVariableInputSize(512,\n",
    "                                                            512,\n",
    "                                                            random_brightness=(-48, 48, 0.5),\n",
    "                                                            random_contrast=(0.5, 1.8, 0.5),\n",
    "                                                            random_saturation=(0.5, 1.8, 0.5),\n",
    "                                                            random_hue=(18, 0.5),\n",
    "                                                            random_flip=0.5,\n",
    "                                                            n_trials_max=3,\n",
    "                                                            min_scale=0.6,\n",
    "                                                            max_scale=1.5,\n",
    "                                                            min_aspect_ratio = 0.8,\n",
    "                                                            max_aspect_ratio = 1.2,\n",
    "                                                            clip_boxes=True,\n",
    "                                                            overlap_criterion='area',\n",
    "                                                            bounds_box_filter=(0.3, 1.0),\n",
    "                                                            bounds_validator=(0.5, 1.0),\n",
    "                                                            n_boxes_min=1,\n",
    "                                                            background=(0,0,0))\n",
    "\n",
    "convert_to_3_channels = ConvertTo3Channels()\n",
    "pad = RandomPadFixedAR(1.0)\n",
    "resize = Resize(height=512, width=512)\n",
    "data_augmentation_chain2 = [convert_to_3_channels,\n",
    "                          pad,\n",
    "                          resize]"
   ]
  },
  {
   "cell_type": "code",
   "execution_count": 21,
   "metadata": {},
   "outputs": [],
   "source": [
    "\n",
    "\n",
    "def create_generators(pascal_path=None,random_transform=True,dataset_type='pascal',multi_scale=False,cat_spec_wh=False):\n",
    "    \"\"\"\n",
    "    Create generators for training and validation.\n",
    "\n",
    "    Args\n",
    "        args: parseargs object containing configuration for generators.\n",
    "        preprocess_image: Function that preprocesses an image for the network.\n",
    "    \"\"\"\n",
    "    common_args = {\n",
    "        'batch_size': 24,\n",
    "        'input_size': 512,\n",
    "        'cat_spec_wh':cat_spec_wh,\n",
    "    }\n",
    "    coco_path = '/opt/train_data/COCO_data/'\n",
    "    pascal_path ='/opt/train_data/VOC_data/VOCdevkit/VOC0712/'\n",
    "\n",
    "    if dataset_type == 'pascal':\n",
    "        from generators_bodong.pascal import PascalVocGenerator\n",
    "        train_generator = PascalVocGenerator(\n",
    "            pascal_path,\n",
    "            'trainval',\n",
    "            skip_difficult=True,\n",
    "            transformations=[data_augmentation_chain],\n",
    "            **common_args\n",
    "        )\n",
    "\n",
    "        validation_generator = PascalVocGenerator(\n",
    "            pascal_path,\n",
    "            'test',\n",
    "            skip_difficult=True,\n",
    "            shuffle_groups=False,\n",
    "            transformations=data_augmentation_chain2,\n",
    "            **common_args\n",
    "        )\n",
    "    elif dataset_type == 'csv':\n",
    "        from generators_bodong.csv_ import CSVGenerator\n",
    "        train_generator = CSVGenerator(\n",
    "            args.annotations_path,\n",
    "            args.classes_path,\n",
    "            transformations=[data_augmentation_chain],\n",
    "            **common_args\n",
    "        )\n",
    "\n",
    "        if args.val_annotations_path:\n",
    "            validation_generator = CSVGenerator(\n",
    "                args.val_annotations_path,\n",
    "                args.classes_path,\n",
    "                shuffle_groups=False,\n",
    "                transformations=data_augmentation_chain2,\n",
    "                **common_args\n",
    "            )\n",
    "        else:\n",
    "            validation_generator = None\n",
    "    elif dataset_type == 'coco':\n",
    "        from generators_bodong.coco import CocoGenerator\n",
    "\n",
    "        train_generator = CocoGenerator(\n",
    "            coco_path,\n",
    "            'train2017',\n",
    "            transformations=[data_augmentation_chain],\n",
    "            **common_args\n",
    "        )\n",
    "\n",
    "        validation_generator = CocoGenerator(\n",
    "            coco_path,\n",
    "            'val2017',\n",
    "            shuffle_groups=False,\n",
    "            transformations=data_augmentation_chain2,\n",
    "            **common_args\n",
    "        )\n",
    "    else:\n",
    "        raise ValueError('Invalid data type received: {}'.format(args.dataset_type))\n",
    "\n",
    "    return train_generator, validation_generator"
   ]
  },
  {
   "cell_type": "code",
   "execution_count": 22,
   "metadata": {},
   "outputs": [
    {
     "name": "stdout",
     "output_type": "stream",
     "text": [
      "loading annotations into memory...\n",
      "Done (t=19.71s)\n",
      "creating index...\n",
      "index created!\n",
      "loading annotations into memory...\n",
      "Done (t=0.34s)\n",
      "creating index...\n",
      "index created!\n"
     ]
    }
   ],
   "source": [
    "train_generator, validation_generator = create_generators(dataset_type='coco')"
   ]
  },
  {
   "cell_type": "code",
   "execution_count": 16,
   "metadata": {},
   "outputs": [],
   "source": [
    "from keras.callbacks import *\n",
    "def create_callbacks(training_model, prediction_model, validation_generator, snapshot_path,\n",
    "                     evaluation=True,dataset_type='voc',snapshots=True):\n",
    "    \"\"\"\n",
    "    Creates the callbacks to use during training.\n",
    "\n",
    "    Args\n",
    "        training_model: The model that is used for training.\n",
    "        prediction_model: The model that should be used for validation.\n",
    "        validation_generator: The generator for creating validation data.\n",
    "        args: parseargs args object.\n",
    "\n",
    "    Returns:\n",
    "        A list of callbacks used for training.\n",
    "    \"\"\"\n",
    "    callbacks = []\n",
    "\n",
    "\n",
    "    if evaluation and validation_generator:\n",
    "        if dataset_type == 'coco':\n",
    "            from eval.coco import CocoEval\n",
    "            # use prediction model for evaluation\n",
    "            evaluation = CocoEval(validation_generator, prediction_model)\n",
    "        else:\n",
    "            from eval.pascal import Evaluate\n",
    "            evaluation = Evaluate(validation_generator, prediction_model)\n",
    "        callbacks.append(evaluation)\n",
    "\n",
    "    # save the model\n",
    "    if snapshots:\n",
    "        # ensure directory created first; otherwise h5py will error after epoch.\n",
    "        if not os.path.exists(snapshot_path):\n",
    "            os.makedirs(snapshot_path)\n",
    "        checkpoint = ModelCheckpoint(\n",
    "            os.path.join(\n",
    "                snapshot_path,\n",
    "                '{dataset_type}_{{epoch:02d}}_{{loss:.4f}}_{{val_loss:.4f}}.h5'.format(dataset_type=dataset_type)\n",
    "            ),\n",
    "            verbose=1,\n",
    "            # save_best_only=True,\n",
    "            # monitor=\"mAP\",\n",
    "            # mode='max'\n",
    "        )\n",
    "        callbacks.append(checkpoint)\n",
    "\n",
    "    # callbacks.append(keras.callbacks.ReduceLROnPlateau(\n",
    "    #     monitor='loss',\n",
    "    #     factor=0.1,\n",
    "    #     patience=2,\n",
    "    #     verbose=1,\n",
    "    #     mode='auto',\n",
    "    #     min_delta=0.0001,\n",
    "    #     cooldown=0,\n",
    "    #     min_lr=0\n",
    "    # ))\n",
    "\n",
    "    return callbacks"
   ]
  },
  {
   "cell_type": "code",
   "execution_count": 24,
   "metadata": {},
   "outputs": [],
   "source": [
    "from keras.optimizers import Adam, SGD\n",
    "model.compile(optimizer=Adam(lr=1e-4), loss={'centernet_loss': lambda y_true, y_pred: y_pred})\n",
    "# model.compile(optimizer=SGD(lr=1e-5), loss={'centernet_loss': lambda y_true, y_pred: y_pred})"
   ]
  },
  {
   "cell_type": "code",
   "execution_count": 18,
   "metadata": {
    "scrolled": true
   },
   "outputs": [
    {
     "name": "stdout",
     "output_type": "stream",
     "text": [
      "__________________________________________________________________________________________________\n",
      "Layer (type)                    Output Shape         Param #     Connected to                     \n",
      "==================================================================================================\n",
      "input_1 (InputLayer)            (None, 512, 512, 3)  0                                            \n",
      "__________________________________________________________________________________________________\n",
      "conv1 (Conv2D)                  (None, 256, 256, 64) 9408        input_1[0][0]                    \n",
      "__________________________________________________________________________________________________\n",
      "bn_conv1 (BatchNormalization)   (None, 256, 256, 64) 256         conv1[0][0]                      \n",
      "__________________________________________________________________________________________________\n",
      "conv1_relu (Activation)         (None, 256, 256, 64) 0           bn_conv1[0][0]                   \n",
      "__________________________________________________________________________________________________\n",
      "pool1 (MaxPooling2D)            (None, 128, 128, 64) 0           conv1_relu[0][0]                 \n",
      "__________________________________________________________________________________________________\n",
      "padding2a_branch2a (ZeroPadding (None, 130, 130, 64) 0           pool1[0][0]                      \n",
      "__________________________________________________________________________________________________\n",
      "res2a_branch2a (Conv2D)         (None, 128, 128, 64) 36864       padding2a_branch2a[0][0]         \n",
      "__________________________________________________________________________________________________\n",
      "bn2a_branch2a (BatchNormalizati (None, 128, 128, 64) 256         res2a_branch2a[0][0]             \n",
      "__________________________________________________________________________________________________\n",
      "res2a_branch2a_relu (Activation (None, 128, 128, 64) 0           bn2a_branch2a[0][0]              \n",
      "__________________________________________________________________________________________________\n",
      "padding2a_branch2b (ZeroPadding (None, 130, 130, 64) 0           res2a_branch2a_relu[0][0]        \n",
      "__________________________________________________________________________________________________\n",
      "res2a_branch2b (Conv2D)         (None, 128, 128, 64) 36864       padding2a_branch2b[0][0]         \n",
      "__________________________________________________________________________________________________\n",
      "res2a_branch1 (Conv2D)          (None, 128, 128, 64) 4096        pool1[0][0]                      \n",
      "__________________________________________________________________________________________________\n",
      "bn2a_branch2b (BatchNormalizati (None, 128, 128, 64) 256         res2a_branch2b[0][0]             \n",
      "__________________________________________________________________________________________________\n",
      "bn2a_branch1 (BatchNormalizatio (None, 128, 128, 64) 256         res2a_branch1[0][0]              \n",
      "__________________________________________________________________________________________________\n",
      "res2a (Add)                     (None, 128, 128, 64) 0           bn2a_branch2b[0][0]              \n",
      "                                                                 bn2a_branch1[0][0]               \n",
      "__________________________________________________________________________________________________\n",
      "res2a_relu (Activation)         (None, 128, 128, 64) 0           res2a[0][0]                      \n",
      "__________________________________________________________________________________________________\n",
      "padding2b1_branch2a (ZeroPaddin (None, 130, 130, 64) 0           res2a_relu[0][0]                 \n",
      "__________________________________________________________________________________________________\n",
      "res2b1_branch2a (Conv2D)        (None, 128, 128, 64) 36864       padding2b1_branch2a[0][0]        \n",
      "__________________________________________________________________________________________________\n",
      "bn2b1_branch2a (BatchNormalizat (None, 128, 128, 64) 256         res2b1_branch2a[0][0]            \n",
      "__________________________________________________________________________________________________\n",
      "res2b1_branch2a_relu (Activatio (None, 128, 128, 64) 0           bn2b1_branch2a[0][0]             \n",
      "__________________________________________________________________________________________________\n",
      "padding2b1_branch2b (ZeroPaddin (None, 130, 130, 64) 0           res2b1_branch2a_relu[0][0]       \n",
      "__________________________________________________________________________________________________\n",
      "res2b1_branch2b (Conv2D)        (None, 128, 128, 64) 36864       padding2b1_branch2b[0][0]        \n",
      "__________________________________________________________________________________________________\n",
      "bn2b1_branch2b (BatchNormalizat (None, 128, 128, 64) 256         res2b1_branch2b[0][0]            \n",
      "__________________________________________________________________________________________________\n",
      "res2b1 (Add)                    (None, 128, 128, 64) 0           bn2b1_branch2b[0][0]             \n",
      "                                                                 res2a_relu[0][0]                 \n",
      "__________________________________________________________________________________________________\n",
      "res2b1_relu (Activation)        (None, 128, 128, 64) 0           res2b1[0][0]                     \n",
      "__________________________________________________________________________________________________\n",
      "padding3a_branch2a (ZeroPadding (None, 130, 130, 64) 0           res2b1_relu[0][0]                \n",
      "__________________________________________________________________________________________________\n",
      "res3a_branch2a (Conv2D)         (None, 64, 64, 128)  73728       padding3a_branch2a[0][0]         \n",
      "__________________________________________________________________________________________________\n",
      "bn3a_branch2a (BatchNormalizati (None, 64, 64, 128)  512         res3a_branch2a[0][0]             \n",
      "__________________________________________________________________________________________________\n",
      "res3a_branch2a_relu (Activation (None, 64, 64, 128)  0           bn3a_branch2a[0][0]              \n",
      "__________________________________________________________________________________________________\n",
      "padding3a_branch2b (ZeroPadding (None, 66, 66, 128)  0           res3a_branch2a_relu[0][0]        \n",
      "__________________________________________________________________________________________________\n",
      "res3a_branch2b (Conv2D)         (None, 64, 64, 128)  147456      padding3a_branch2b[0][0]         \n",
      "__________________________________________________________________________________________________\n",
      "res3a_branch1 (Conv2D)          (None, 64, 64, 128)  8192        res2b1_relu[0][0]                \n",
      "__________________________________________________________________________________________________\n",
      "bn3a_branch2b (BatchNormalizati (None, 64, 64, 128)  512         res3a_branch2b[0][0]             \n",
      "__________________________________________________________________________________________________\n",
      "bn3a_branch1 (BatchNormalizatio (None, 64, 64, 128)  512         res3a_branch1[0][0]              \n",
      "__________________________________________________________________________________________________\n",
      "res3a (Add)                     (None, 64, 64, 128)  0           bn3a_branch2b[0][0]              \n",
      "                                                                 bn3a_branch1[0][0]               \n",
      "__________________________________________________________________________________________________\n",
      "res3a_relu (Activation)         (None, 64, 64, 128)  0           res3a[0][0]                      \n",
      "__________________________________________________________________________________________________\n",
      "padding3b1_branch2a (ZeroPaddin (None, 66, 66, 128)  0           res3a_relu[0][0]                 \n",
      "__________________________________________________________________________________________________\n",
      "res3b1_branch2a (Conv2D)        (None, 64, 64, 128)  147456      padding3b1_branch2a[0][0]        \n",
      "__________________________________________________________________________________________________\n",
      "bn3b1_branch2a (BatchNormalizat (None, 64, 64, 128)  512         res3b1_branch2a[0][0]            \n",
      "__________________________________________________________________________________________________\n",
      "res3b1_branch2a_relu (Activatio (None, 64, 64, 128)  0           bn3b1_branch2a[0][0]             \n",
      "__________________________________________________________________________________________________\n",
      "padding3b1_branch2b (ZeroPaddin (None, 66, 66, 128)  0           res3b1_branch2a_relu[0][0]       \n",
      "__________________________________________________________________________________________________\n",
      "res3b1_branch2b (Conv2D)        (None, 64, 64, 128)  147456      padding3b1_branch2b[0][0]        \n",
      "__________________________________________________________________________________________________\n",
      "bn3b1_branch2b (BatchNormalizat (None, 64, 64, 128)  512         res3b1_branch2b[0][0]            \n",
      "__________________________________________________________________________________________________\n",
      "res3b1 (Add)                    (None, 64, 64, 128)  0           bn3b1_branch2b[0][0]             \n",
      "                                                                 res3a_relu[0][0]                 \n",
      "__________________________________________________________________________________________________\n",
      "res3b1_relu (Activation)        (None, 64, 64, 128)  0           res3b1[0][0]                     \n",
      "__________________________________________________________________________________________________\n",
      "padding4a_branch2a (ZeroPadding (None, 66, 66, 128)  0           res3b1_relu[0][0]                \n",
      "__________________________________________________________________________________________________\n",
      "res4a_branch2a (Conv2D)         (None, 32, 32, 256)  294912      padding4a_branch2a[0][0]         \n",
      "__________________________________________________________________________________________________\n",
      "bn4a_branch2a (BatchNormalizati (None, 32, 32, 256)  1024        res4a_branch2a[0][0]             \n",
      "__________________________________________________________________________________________________\n",
      "res4a_branch2a_relu (Activation (None, 32, 32, 256)  0           bn4a_branch2a[0][0]              \n",
      "__________________________________________________________________________________________________\n",
      "padding4a_branch2b (ZeroPadding (None, 34, 34, 256)  0           res4a_branch2a_relu[0][0]        \n",
      "__________________________________________________________________________________________________\n",
      "res4a_branch2b (Conv2D)         (None, 32, 32, 256)  589824      padding4a_branch2b[0][0]         \n",
      "__________________________________________________________________________________________________\n",
      "res4a_branch1 (Conv2D)          (None, 32, 32, 256)  32768       res3b1_relu[0][0]                \n",
      "__________________________________________________________________________________________________\n",
      "bn4a_branch2b (BatchNormalizati (None, 32, 32, 256)  1024        res4a_branch2b[0][0]             \n",
      "__________________________________________________________________________________________________\n",
      "bn4a_branch1 (BatchNormalizatio (None, 32, 32, 256)  1024        res4a_branch1[0][0]              \n",
      "__________________________________________________________________________________________________\n",
      "res4a (Add)                     (None, 32, 32, 256)  0           bn4a_branch2b[0][0]              \n",
      "                                                                 bn4a_branch1[0][0]               \n",
      "__________________________________________________________________________________________________\n",
      "res4a_relu (Activation)         (None, 32, 32, 256)  0           res4a[0][0]                      \n",
      "__________________________________________________________________________________________________\n",
      "padding4b1_branch2a (ZeroPaddin (None, 34, 34, 256)  0           res4a_relu[0][0]                 \n",
      "__________________________________________________________________________________________________\n",
      "res4b1_branch2a (Conv2D)        (None, 32, 32, 256)  589824      padding4b1_branch2a[0][0]        \n",
      "__________________________________________________________________________________________________\n",
      "bn4b1_branch2a (BatchNormalizat (None, 32, 32, 256)  1024        res4b1_branch2a[0][0]            \n",
      "__________________________________________________________________________________________________\n",
      "res4b1_branch2a_relu (Activatio (None, 32, 32, 256)  0           bn4b1_branch2a[0][0]             \n",
      "__________________________________________________________________________________________________\n",
      "padding4b1_branch2b (ZeroPaddin (None, 34, 34, 256)  0           res4b1_branch2a_relu[0][0]       \n",
      "__________________________________________________________________________________________________\n",
      "res4b1_branch2b (Conv2D)        (None, 32, 32, 256)  589824      padding4b1_branch2b[0][0]        \n",
      "__________________________________________________________________________________________________\n",
      "bn4b1_branch2b (BatchNormalizat (None, 32, 32, 256)  1024        res4b1_branch2b[0][0]            \n",
      "__________________________________________________________________________________________________\n",
      "res4b1 (Add)                    (None, 32, 32, 256)  0           bn4b1_branch2b[0][0]             \n",
      "                                                                 res4a_relu[0][0]                 \n",
      "__________________________________________________________________________________________________\n",
      "res4b1_relu (Activation)        (None, 32, 32, 256)  0           res4b1[0][0]                     \n",
      "__________________________________________________________________________________________________\n",
      "padding5a_branch2a (ZeroPadding (None, 34, 34, 256)  0           res4b1_relu[0][0]                \n",
      "__________________________________________________________________________________________________\n",
      "res5a_branch2a (Conv2D)         (None, 16, 16, 512)  1179648     padding5a_branch2a[0][0]         \n",
      "__________________________________________________________________________________________________\n",
      "bn5a_branch2a (BatchNormalizati (None, 16, 16, 512)  2048        res5a_branch2a[0][0]             \n",
      "__________________________________________________________________________________________________\n",
      "res5a_branch2a_relu (Activation (None, 16, 16, 512)  0           bn5a_branch2a[0][0]              \n",
      "__________________________________________________________________________________________________\n",
      "padding5a_branch2b (ZeroPadding (None, 18, 18, 512)  0           res5a_branch2a_relu[0][0]        \n",
      "__________________________________________________________________________________________________\n",
      "res5a_branch2b (Conv2D)         (None, 16, 16, 512)  2359296     padding5a_branch2b[0][0]         \n",
      "__________________________________________________________________________________________________\n",
      "res5a_branch1 (Conv2D)          (None, 16, 16, 512)  131072      res4b1_relu[0][0]                \n",
      "__________________________________________________________________________________________________\n",
      "bn5a_branch2b (BatchNormalizati (None, 16, 16, 512)  2048        res5a_branch2b[0][0]             \n",
      "__________________________________________________________________________________________________\n",
      "bn5a_branch1 (BatchNormalizatio (None, 16, 16, 512)  2048        res5a_branch1[0][0]              \n",
      "__________________________________________________________________________________________________\n",
      "res5a (Add)                     (None, 16, 16, 512)  0           bn5a_branch2b[0][0]              \n",
      "                                                                 bn5a_branch1[0][0]               \n",
      "__________________________________________________________________________________________________\n",
      "res5a_relu (Activation)         (None, 16, 16, 512)  0           res5a[0][0]                      \n",
      "__________________________________________________________________________________________________\n",
      "padding5b1_branch2a (ZeroPaddin (None, 18, 18, 512)  0           res5a_relu[0][0]                 \n",
      "__________________________________________________________________________________________________\n",
      "res5b1_branch2a (Conv2D)        (None, 16, 16, 512)  2359296     padding5b1_branch2a[0][0]        \n",
      "__________________________________________________________________________________________________\n",
      "bn5b1_branch2a (BatchNormalizat (None, 16, 16, 512)  2048        res5b1_branch2a[0][0]            \n",
      "__________________________________________________________________________________________________\n",
      "res5b1_branch2a_relu (Activatio (None, 16, 16, 512)  0           bn5b1_branch2a[0][0]             \n",
      "__________________________________________________________________________________________________\n",
      "padding5b1_branch2b (ZeroPaddin (None, 18, 18, 512)  0           res5b1_branch2a_relu[0][0]       \n",
      "__________________________________________________________________________________________________\n",
      "res5b1_branch2b (Conv2D)        (None, 16, 16, 512)  2359296     padding5b1_branch2b[0][0]        \n",
      "__________________________________________________________________________________________________\n",
      "bn5b1_branch2b (BatchNormalizat (None, 16, 16, 512)  2048        res5b1_branch2b[0][0]            \n",
      "__________________________________________________________________________________________________\n",
      "res5b1 (Add)                    (None, 16, 16, 512)  0           bn5b1_branch2b[0][0]             \n",
      "                                                                 res5a_relu[0][0]                 \n",
      "__________________________________________________________________________________________________\n",
      "res5b1_relu (Activation)        (None, 16, 16, 512)  0           res5b1[0][0]                     \n",
      "__________________________________________________________________________________________________\n",
      "dropout_1 (Dropout)             (None, 16, 16, 512)  0           res5b1_relu[0][0]                \n",
      "__________________________________________________________________________________________________\n",
      "up_sampling2d_1 (UpSampling2D)  (None, 32, 32, 512)  0           dropout_1[0][0]                  \n",
      "__________________________________________________________________________________________________\n",
      "conv2d_1 (Conv2D)               (None, 32, 32, 256)  2097152     up_sampling2d_1[0][0]            \n",
      "__________________________________________________________________________________________________\n",
      "batch_normalization_1 (BatchNor (None, 32, 32, 256)  1024        conv2d_1[0][0]                   \n",
      "__________________________________________________________________________________________________\n",
      "re_lu_1 (ReLU)                  (None, 32, 32, 256)  0           batch_normalization_1[0][0]      \n",
      "__________________________________________________________________________________________________\n",
      "up_sampling2d_2 (UpSampling2D)  (None, 64, 64, 256)  0           re_lu_1[0][0]                    \n",
      "__________________________________________________________________________________________________\n",
      "conv2d_2 (Conv2D)               (None, 64, 64, 128)  524288      up_sampling2d_2[0][0]            \n",
      "__________________________________________________________________________________________________\n",
      "batch_normalization_2 (BatchNor (None, 64, 64, 128)  512         conv2d_2[0][0]                   \n",
      "__________________________________________________________________________________________________\n",
      "re_lu_2 (ReLU)                  (None, 64, 64, 128)  0           batch_normalization_2[0][0]      \n",
      "__________________________________________________________________________________________________\n",
      "up_sampling2d_3 (UpSampling2D)  (None, 128, 128, 128 0           re_lu_2[0][0]                    \n",
      "__________________________________________________________________________________________________\n",
      "conv2d_3 (Conv2D)               (None, 128, 128, 64) 131072      up_sampling2d_3[0][0]            \n",
      "__________________________________________________________________________________________________\n",
      "batch_normalization_3 (BatchNor (None, 128, 128, 64) 256         conv2d_3[0][0]                   \n",
      "__________________________________________________________________________________________________\n",
      "re_lu_3 (ReLU)                  (None, 128, 128, 64) 0           batch_normalization_3[0][0]      \n",
      "__________________________________________________________________________________________________\n",
      "conv2d_4 (Conv2D)               (None, 128, 128, 64) 36928       re_lu_3[0][0]                    \n",
      "__________________________________________________________________________________________________\n",
      "conv2d_6 (Conv2D)               (None, 128, 128, 64) 36928       re_lu_3[0][0]                    \n",
      "__________________________________________________________________________________________________\n",
      "conv2d_8 (Conv2D)               (None, 128, 128, 64) 36928       re_lu_3[0][0]                    \n",
      "__________________________________________________________________________________________________\n",
      "conv2d_5 (Conv2D)               (None, 128, 128, 80) 5200        conv2d_4[0][0]                   \n",
      "__________________________________________________________________________________________________\n",
      "conv2d_7 (Conv2D)               (None, 128, 128, 2)  130         conv2d_6[0][0]                   \n",
      "__________________________________________________________________________________________________\n",
      "conv2d_9 (Conv2D)               (None, 128, 128, 2)  130         conv2d_8[0][0]                   \n",
      "__________________________________________________________________________________________________\n",
      "input_2 (InputLayer)            (None, 128, 128, 80) 0                                            \n",
      "__________________________________________________________________________________________________\n",
      "input_3 (InputLayer)            (None, 100, 2)       0                                            \n",
      "__________________________________________________________________________________________________\n",
      "input_4 (InputLayer)            (None, 100)          0                                            \n",
      "__________________________________________________________________________________________________\n",
      "input_5 (InputLayer)            (None, 100, 2)       0                                            \n",
      "__________________________________________________________________________________________________\n",
      "input_6 (InputLayer)            (None, 100)          0                                            \n",
      "__________________________________________________________________________________________________\n",
      "input_7 (InputLayer)            (None, 100)          0                                            \n",
      "__________________________________________________________________________________________________\n",
      "centernet_loss (CTLoss)         (1,)                 0           conv2d_5[0][0]                   \n",
      "                                                                 conv2d_7[0][0]                   \n",
      "                                                                 conv2d_9[0][0]                   \n",
      "                                                                 input_2[0][0]                    \n",
      "                                                                 input_3[0][0]                    \n",
      "                                                                 input_4[0][0]                    \n",
      "                                                                 input_5[0][0]                    \n",
      "                                                                 input_6[0][0]                    \n",
      "                                                                 input_7[0][0]                    \n",
      "==================================================================================================\n",
      "Total params: 14,061,012\n",
      "Trainable params: 14,050,388\n",
      "Non-trainable params: 10,624\n",
      "__________________________________________________________________________________________________\n"
     ]
    }
   ],
   "source": [
    "model.summary()"
   ]
  },
  {
   "cell_type": "code",
   "execution_count": 19,
   "metadata": {},
   "outputs": [],
   "source": [
    "from datetime import datetime\n",
    "log_dir_base = './ckpt/res18/'\n",
    "subdir = datetime.strftime(datetime.now(), '%Y%m%d')\n",
    "log_dir = os.path.join(log_dir_base, subdir)\n",
    "\n",
    "callbacks = create_callbacks(\n",
    "       model,\n",
    "       prediction_model,\n",
    "       validation_generator,\n",
    "       log_dir,\n",
    "       dataset_type='pascal'\n",
    "    )"
   ]
  },
  {
   "cell_type": "code",
   "execution_count": null,
   "metadata": {
    "scrolled": true
   },
   "outputs": [
    {
     "name": "stdout",
     "output_type": "stream",
     "text": [
      "Epoch 139/500\n",
      "2000/2000 [==============================] - 1427s 713ms/step - loss: 2.8313 - val_loss: 3.0089\n",
      "\n",
      "Epoch 00139: saving model to ./ckpt/res18/20200603/coco_139_2.8313_3.0089.h5\n",
      "Epoch 140/500\n",
      "2000/2000 [==============================] - 1448s 724ms/step - loss: 2.7216 - val_loss: 3.0085\n",
      "\n",
      "Epoch 00140: saving model to ./ckpt/res18/20200603/coco_140_2.7216_3.0085.h5\n",
      "Epoch 141/500\n",
      "2000/2000 [==============================] - 1429s 714ms/step - loss: 2.9403 - val_loss: 2.9638\n",
      "\n",
      "Epoch 00141: saving model to ./ckpt/res18/20200603/coco_141_2.9403_2.9638.h5\n",
      "Epoch 142/500\n",
      "2000/2000 [==============================] - 1457s 728ms/step - loss: 2.9531 - val_loss: 2.9339\n",
      "\n",
      "Epoch 00142: saving model to ./ckpt/res18/20200603/coco_142_2.9531_2.9339.h5\n",
      "Epoch 143/500\n",
      "2000/2000 [==============================] - 1446s 723ms/step - loss: 2.9631 - val_loss: 2.9302\n",
      "\n",
      "Epoch 00143: saving model to ./ckpt/res18/20200603/coco_143_2.9631_2.9302.h5\n",
      "Epoch 144/500\n",
      "2000/2000 [==============================] - 1447s 723ms/step - loss: 2.9439 - val_loss: 2.9273\n",
      "\n",
      "Epoch 00144: saving model to ./ckpt/res18/20200603/coco_144_2.9439_2.9273.h5\n",
      "Epoch 145/500\n",
      "2000/2000 [==============================] - 1446s 723ms/step - loss: 2.9262 - val_loss: 2.9277\n",
      "\n",
      "Epoch 00145: saving model to ./ckpt/res18/20200603/coco_145_2.9262_2.9277.h5\n",
      "Epoch 146/500\n",
      "2000/2000 [==============================] - 1395s 697ms/step - loss: 2.9271 - val_loss: 2.9210\n",
      "\n",
      "Epoch 00146: saving model to ./ckpt/res18/20200603/coco_146_2.9271_2.9210.h5\n",
      "Epoch 147/500\n",
      "2000/2000 [==============================] - 1448s 724ms/step - loss: 2.9122 - val_loss: 2.9246\n",
      "\n",
      "Epoch 00147: saving model to ./ckpt/res18/20200603/coco_147_2.9122_2.9246.h5\n",
      "Epoch 148/500\n",
      "2000/2000 [==============================] - 1436s 718ms/step - loss: 2.9116 - val_loss: 2.8941\n",
      "\n",
      "Epoch 00148: saving model to ./ckpt/res18/20200603/coco_148_2.9116_2.8941.h5\n",
      "Epoch 149/500\n",
      "2000/2000 [==============================] - 1448s 724ms/step - loss: 2.9024 - val_loss: 2.8929\n",
      "\n",
      "Epoch 00149: saving model to ./ckpt/res18/20200603/coco_149_2.9024_2.8929.h5\n",
      "Epoch 150/500\n",
      "2000/2000 [==============================] - 1450s 725ms/step - loss: 2.8920 - val_loss: 2.8996\n",
      "\n",
      "Epoch 00150: saving model to ./ckpt/res18/20200603/coco_150_2.8920_2.8996.h5\n",
      "Epoch 151/500\n",
      "2000/2000 [==============================] - 1423s 712ms/step - loss: 2.9053 - val_loss: 2.8998\n",
      "\n",
      "Epoch 00151: saving model to ./ckpt/res18/20200603/coco_151_2.9053_2.8998.h5\n",
      "Epoch 152/500\n",
      "2000/2000 [==============================] - 1448s 724ms/step - loss: 2.9043 - val_loss: 2.8814\n",
      "\n",
      "Epoch 00152: saving model to ./ckpt/res18/20200603/coco_152_2.9043_2.8814.h5\n",
      "Epoch 153/500\n",
      "2000/2000 [==============================] - 1432s 716ms/step - loss: 2.8983 - val_loss: 2.9007\n",
      "\n",
      "Epoch 00153: saving model to ./ckpt/res18/20200603/coco_153_2.8983_2.9007.h5\n",
      "Epoch 154/500\n",
      "2000/2000 [==============================] - 1450s 725ms/step - loss: 2.8912 - val_loss: 2.8899\n",
      "\n",
      "Epoch 00154: saving model to ./ckpt/res18/20200603/coco_154_2.8912_2.8899.h5\n",
      "Epoch 155/500\n",
      "2000/2000 [==============================] - 1453s 727ms/step - loss: 2.8876 - val_loss: 2.8908\n",
      "\n",
      "Epoch 00155: saving model to ./ckpt/res18/20200603/coco_155_2.8876_2.8908.h5\n",
      "Epoch 156/500\n",
      "2000/2000 [==============================] - 1445s 723ms/step - loss: 2.9019 - val_loss: 2.8959\n",
      "\n",
      "Epoch 00156: saving model to ./ckpt/res18/20200603/coco_156_2.9019_2.8959.h5\n",
      "Epoch 157/500\n",
      "2000/2000 [==============================] - 1441s 721ms/step - loss: 2.8945 - val_loss: 2.8858\n",
      "\n",
      "Epoch 00157: saving model to ./ckpt/res18/20200603/coco_157_2.8945_2.8858.h5\n",
      "Epoch 158/500\n",
      "2000/2000 [==============================] - 1429s 714ms/step - loss: 2.8861 - val_loss: 2.8858\n",
      "\n",
      "Epoch 00158: saving model to ./ckpt/res18/20200603/coco_158_2.8861_2.8858.h5\n",
      "Epoch 159/500\n",
      "2000/2000 [==============================] - 1448s 724ms/step - loss: 2.8883 - val_loss: 2.8849\n",
      "\n",
      "Epoch 00159: saving model to ./ckpt/res18/20200603/coco_159_2.8883_2.8849.h5\n",
      "Epoch 160/500\n",
      "2000/2000 [==============================] - 1441s 720ms/step - loss: 2.8773 - val_loss: 2.8624\n",
      "\n",
      "Epoch 00160: saving model to ./ckpt/res18/20200603/coco_160_2.8773_2.8624.h5\n",
      "Epoch 161/500\n",
      "2000/2000 [==============================] - 1438s 719ms/step - loss: 2.8767 - val_loss: 2.8711\n",
      "\n",
      "Epoch 00161: saving model to ./ckpt/res18/20200603/coco_161_2.8767_2.8711.h5\n",
      "Epoch 162/500\n",
      "2000/2000 [==============================] - 1450s 725ms/step - loss: 2.8768 - val_loss: 2.8792\n",
      "\n",
      "Epoch 00162: saving model to ./ckpt/res18/20200603/coco_162_2.8768_2.8792.h5\n",
      "Epoch 163/500\n",
      "2000/2000 [==============================] - 1422s 711ms/step - loss: 2.8621 - val_loss: 2.8756\n",
      "\n",
      "Epoch 00163: saving model to ./ckpt/res18/20200603/coco_163_2.8621_2.8756.h5\n",
      "Epoch 164/500\n",
      "2000/2000 [==============================] - 1439s 719ms/step - loss: 2.8598 - val_loss: 2.8667\n",
      "\n",
      "Epoch 00164: saving model to ./ckpt/res18/20200603/coco_164_2.8598_2.8667.h5\n",
      "Epoch 165/500\n",
      "2000/2000 [==============================] - 1452s 726ms/step - loss: 2.8690 - val_loss: 2.8610\n",
      "\n",
      "Epoch 00165: saving model to ./ckpt/res18/20200603/coco_165_2.8690_2.8610.h5\n",
      "Epoch 166/500\n",
      "2000/2000 [==============================] - 1429s 715ms/step - loss: 2.8658 - val_loss: 2.8630\n",
      "\n",
      "Epoch 00166: saving model to ./ckpt/res18/20200603/coco_166_2.8658_2.8630.h5\n",
      "Epoch 167/500\n",
      "2000/2000 [==============================] - 1467s 734ms/step - loss: 2.8531 - val_loss: 2.8742\n",
      "\n",
      "Epoch 00167: saving model to ./ckpt/res18/20200603/coco_167_2.8531_2.8742.h5\n",
      "Epoch 168/500\n",
      "2000/2000 [==============================] - 1425s 712ms/step - loss: 2.8746 - val_loss: 2.8560\n",
      "\n",
      "Epoch 00168: saving model to ./ckpt/res18/20200603/coco_168_2.8746_2.8560.h5\n",
      "Epoch 169/500\n",
      "2000/2000 [==============================] - 1447s 724ms/step - loss: 2.8643 - val_loss: 2.8687\n",
      "\n",
      "Epoch 00169: saving model to ./ckpt/res18/20200603/coco_169_2.8643_2.8687.h5\n",
      "Epoch 170/500\n",
      "  10/2000 [..............................] - ETA: 23:03 - loss: 2.9302"
     ]
    }
   ],
   "source": [
    "model.fit_generator(\n",
    "        generator=train_generator,\n",
    "        steps_per_epoch=2000,\n",
    "        initial_epoch=138,\n",
    "        epochs=500,\n",
    "        verbose=1,\n",
    "        callbacks=callbacks,\n",
    "        workers=3,\n",
    "        use_multiprocessing=True,\n",
    "        validation_data=validation_generator\n",
    "    )"
   ]
  },
  {
   "cell_type": "code",
   "execution_count": null,
   "metadata": {},
   "outputs": [],
   "source": [
    "from eval.coco import evaluate_coco\n",
    "res = evaluate_coco(validation_generator, prediction_model)"
   ]
  },
  {
   "cell_type": "code",
   "execution_count": 27,
   "metadata": {},
   "outputs": [],
   "source": [
    "model.save('./haha.hdf5')"
   ]
  },
  {
   "cell_type": "code",
   "execution_count": 15,
   "metadata": {},
   "outputs": [],
   "source": [
    "data = train_generator.__getitem__(5)"
   ]
  },
  {
   "cell_type": "code",
   "execution_count": 13,
   "metadata": {},
   "outputs": [],
   "source": [
    "inp, hm_input, wh_input,wh_mask_input, reg_input, reg_mask_input, index_input = data[0]"
   ]
  },
  {
   "cell_type": "code",
   "execution_count": null,
   "metadata": {},
   "outputs": [],
   "source": [
    "loss = model.predict_on_batch(data[0])"
   ]
  },
  {
   "cell_type": "code",
   "execution_count": null,
   "metadata": {},
   "outputs": [],
   "source": [
    "res = prediction_model.predict(inp[:1])"
   ]
  },
  {
   "cell_type": "code",
   "execution_count": null,
   "metadata": {},
   "outputs": [],
   "source": [
    "hm, wh, reg = debug_model.predict(inp[:1])"
   ]
  },
  {
   "cell_type": "code",
   "execution_count": 23,
   "metadata": {},
   "outputs": [
    {
     "data": {
      "text/plain": [
       "(1, 128, 128, 80)"
      ]
     },
     "execution_count": 23,
     "metadata": {},
     "output_type": "execute_result"
    }
   ],
   "source": [
    "hm.shape"
   ]
  },
  {
   "cell_type": "code",
   "execution_count": 24,
   "metadata": {},
   "outputs": [
    {
     "ename": "NameError",
     "evalue": "name 'postprocess_' is not defined",
     "output_type": "error",
     "traceback": [
      "\u001b[0;31m\u001b[0m",
      "\u001b[0;31mNameError\u001b[0mTraceback (most recent call last)",
      "\u001b[0;32m<ipython-input-24-d974b33d0acf>\u001b[0m in \u001b[0;36m<module>\u001b[0;34m()\u001b[0m\n\u001b[0;32m----> 1\u001b[0;31m \u001b[0mpostprocess_\u001b[0m\u001b[0;34m(\u001b[0m\u001b[0mhm\u001b[0m\u001b[0;34m,\u001b[0m \u001b[0mwh\u001b[0m\u001b[0;34m,\u001b[0m\u001b[0mreg\u001b[0m\u001b[0;34m,\u001b[0m\u001b[0mnum_classes\u001b[0m\u001b[0;34m=\u001b[0m\u001b[0mnum_classes\u001b[0m\u001b[0;34m)\u001b[0m\u001b[0;34m\u001b[0m\u001b[0m\n\u001b[0m",
      "\u001b[0;31mNameError\u001b[0m: name 'postprocess_' is not defined"
     ]
    }
   ],
   "source": [
    "postprocess_(hm, wh,reg,num_classes=num_classes)"
   ]
  },
  {
   "cell_type": "code",
   "execution_count": 25,
   "metadata": {
    "scrolled": true
   },
   "outputs": [
    {
     "data": {
      "text/plain": [
       "array([[[0., 0., 0., 0., 0., 0.],\n",
       "        [0., 0., 0., 0., 0., 0.],\n",
       "        [0., 0., 0., 0., 0., 0.],\n",
       "        [0., 0., 0., 0., 0., 0.],\n",
       "        [0., 0., 0., 0., 0., 0.],\n",
       "        [0., 0., 0., 0., 0., 0.],\n",
       "        [0., 0., 0., 0., 0., 0.],\n",
       "        [0., 0., 0., 0., 0., 0.],\n",
       "        [0., 0., 0., 0., 0., 0.],\n",
       "        [0., 0., 0., 0., 0., 0.],\n",
       "        [0., 0., 0., 0., 0., 0.],\n",
       "        [0., 0., 0., 0., 0., 0.],\n",
       "        [0., 0., 0., 0., 0., 0.],\n",
       "        [0., 0., 0., 0., 0., 0.],\n",
       "        [0., 0., 0., 0., 0., 0.],\n",
       "        [0., 0., 0., 0., 0., 0.],\n",
       "        [0., 0., 0., 0., 0., 0.],\n",
       "        [0., 0., 0., 0., 0., 0.],\n",
       "        [0., 0., 0., 0., 0., 0.],\n",
       "        [0., 0., 0., 0., 0., 0.],\n",
       "        [0., 0., 0., 0., 0., 0.],\n",
       "        [0., 0., 0., 0., 0., 0.],\n",
       "        [0., 0., 0., 0., 0., 0.],\n",
       "        [0., 0., 0., 0., 0., 0.],\n",
       "        [0., 0., 0., 0., 0., 0.],\n",
       "        [0., 0., 0., 0., 0., 0.],\n",
       "        [0., 0., 0., 0., 0., 0.],\n",
       "        [0., 0., 0., 0., 0., 0.],\n",
       "        [0., 0., 0., 0., 0., 0.],\n",
       "        [0., 0., 0., 0., 0., 0.],\n",
       "        [0., 0., 0., 0., 0., 0.],\n",
       "        [0., 0., 0., 0., 0., 0.],\n",
       "        [0., 0., 0., 0., 0., 0.],\n",
       "        [0., 0., 0., 0., 0., 0.],\n",
       "        [0., 0., 0., 0., 0., 0.],\n",
       "        [0., 0., 0., 0., 0., 0.],\n",
       "        [0., 0., 0., 0., 0., 0.],\n",
       "        [0., 0., 0., 0., 0., 0.],\n",
       "        [0., 0., 0., 0., 0., 0.],\n",
       "        [0., 0., 0., 0., 0., 0.],\n",
       "        [0., 0., 0., 0., 0., 0.],\n",
       "        [0., 0., 0., 0., 0., 0.],\n",
       "        [0., 0., 0., 0., 0., 0.],\n",
       "        [0., 0., 0., 0., 0., 0.],\n",
       "        [0., 0., 0., 0., 0., 0.],\n",
       "        [0., 0., 0., 0., 0., 0.],\n",
       "        [0., 0., 0., 0., 0., 0.],\n",
       "        [0., 0., 0., 0., 0., 0.],\n",
       "        [0., 0., 0., 0., 0., 0.],\n",
       "        [0., 0., 0., 0., 0., 0.],\n",
       "        [0., 0., 0., 0., 0., 0.],\n",
       "        [0., 0., 0., 0., 0., 0.],\n",
       "        [0., 0., 0., 0., 0., 0.],\n",
       "        [0., 0., 0., 0., 0., 0.],\n",
       "        [0., 0., 0., 0., 0., 0.],\n",
       "        [0., 0., 0., 0., 0., 0.],\n",
       "        [0., 0., 0., 0., 0., 0.],\n",
       "        [0., 0., 0., 0., 0., 0.],\n",
       "        [0., 0., 0., 0., 0., 0.],\n",
       "        [0., 0., 0., 0., 0., 0.],\n",
       "        [0., 0., 0., 0., 0., 0.],\n",
       "        [0., 0., 0., 0., 0., 0.],\n",
       "        [0., 0., 0., 0., 0., 0.],\n",
       "        [0., 0., 0., 0., 0., 0.],\n",
       "        [0., 0., 0., 0., 0., 0.],\n",
       "        [0., 0., 0., 0., 0., 0.],\n",
       "        [0., 0., 0., 0., 0., 0.],\n",
       "        [0., 0., 0., 0., 0., 0.],\n",
       "        [0., 0., 0., 0., 0., 0.],\n",
       "        [0., 0., 0., 0., 0., 0.],\n",
       "        [0., 0., 0., 0., 0., 0.],\n",
       "        [0., 0., 0., 0., 0., 0.],\n",
       "        [0., 0., 0., 0., 0., 0.],\n",
       "        [0., 0., 0., 0., 0., 0.],\n",
       "        [0., 0., 0., 0., 0., 0.],\n",
       "        [0., 0., 0., 0., 0., 0.],\n",
       "        [0., 0., 0., 0., 0., 0.],\n",
       "        [0., 0., 0., 0., 0., 0.],\n",
       "        [0., 0., 0., 0., 0., 0.],\n",
       "        [0., 0., 0., 0., 0., 0.],\n",
       "        [0., 0., 0., 0., 0., 0.],\n",
       "        [0., 0., 0., 0., 0., 0.],\n",
       "        [0., 0., 0., 0., 0., 0.],\n",
       "        [0., 0., 0., 0., 0., 0.],\n",
       "        [0., 0., 0., 0., 0., 0.],\n",
       "        [0., 0., 0., 0., 0., 0.],\n",
       "        [0., 0., 0., 0., 0., 0.],\n",
       "        [0., 0., 0., 0., 0., 0.],\n",
       "        [0., 0., 0., 0., 0., 0.],\n",
       "        [0., 0., 0., 0., 0., 0.],\n",
       "        [0., 0., 0., 0., 0., 0.],\n",
       "        [0., 0., 0., 0., 0., 0.],\n",
       "        [0., 0., 0., 0., 0., 0.],\n",
       "        [0., 0., 0., 0., 0., 0.],\n",
       "        [0., 0., 0., 0., 0., 0.],\n",
       "        [0., 0., 0., 0., 0., 0.],\n",
       "        [0., 0., 0., 0., 0., 0.],\n",
       "        [0., 0., 0., 0., 0., 0.],\n",
       "        [0., 0., 0., 0., 0., 0.],\n",
       "        [0., 0., 0., 0., 0., 0.]]], dtype=float32)"
      ]
     },
     "execution_count": 25,
     "metadata": {},
     "output_type": "execute_result"
    }
   ],
   "source": [
    "res"
   ]
  },
  {
   "cell_type": "code",
   "execution_count": 23,
   "metadata": {},
   "outputs": [
    {
     "data": {
      "text/plain": [
       "u'backpack'"
      ]
     },
     "execution_count": 23,
     "metadata": {},
     "output_type": "execute_result"
    }
   ],
   "source": [
    "validation_generator.label_to_name(22)"
   ]
  },
  {
   "cell_type": "code",
   "execution_count": 31,
   "metadata": {},
   "outputs": [],
   "source": [
    "k =0"
   ]
  },
  {
   "cell_type": "code",
   "execution_count": 32,
   "metadata": {},
   "outputs": [
    {
     "data": {
      "text/plain": [
       "array([1., 1., 0., 0., 0., 0., 0., 0., 0., 0., 0., 0., 0., 0., 0., 0., 0.,\n",
       "       0., 0., 0., 0., 0., 0., 0., 0., 0., 0., 0., 0., 0., 0., 0., 0., 0.,\n",
       "       0., 0., 0., 0., 0., 0., 0., 0., 0., 0., 0., 0., 0., 0., 0., 0., 0.,\n",
       "       0., 0., 0., 0., 0., 0., 0., 0., 0., 0., 0., 0., 0., 0., 0., 0., 0.,\n",
       "       0., 0., 0., 0., 0., 0., 0., 0., 0., 0., 0., 0., 0., 0., 0., 0., 0.,\n",
       "       0., 0., 0., 0., 0., 0., 0., 0., 0., 0., 0., 0., 0., 0., 0.],\n",
       "      dtype=float32)"
      ]
     },
     "execution_count": 32,
     "metadata": {},
     "output_type": "execute_result"
    }
   ],
   "source": [
    "reg_mask_input[k]"
   ]
  },
  {
   "cell_type": "code",
   "execution_count": 33,
   "metadata": {
    "scrolled": true
   },
   "outputs": [
    {
     "data": {
      "text/plain": [
       "array([[17.986   , 19.896002],\n",
       "       [ 9.5     , 26.598003],\n",
       "       [ 0.      ,  0.      ],\n",
       "       [ 0.      ,  0.      ],\n",
       "       [ 0.      ,  0.      ],\n",
       "       [ 0.      ,  0.      ],\n",
       "       [ 0.      ,  0.      ],\n",
       "       [ 0.      ,  0.      ],\n",
       "       [ 0.      ,  0.      ],\n",
       "       [ 0.      ,  0.      ],\n",
       "       [ 0.      ,  0.      ],\n",
       "       [ 0.      ,  0.      ],\n",
       "       [ 0.      ,  0.      ],\n",
       "       [ 0.      ,  0.      ],\n",
       "       [ 0.      ,  0.      ],\n",
       "       [ 0.      ,  0.      ],\n",
       "       [ 0.      ,  0.      ],\n",
       "       [ 0.      ,  0.      ],\n",
       "       [ 0.      ,  0.      ],\n",
       "       [ 0.      ,  0.      ],\n",
       "       [ 0.      ,  0.      ],\n",
       "       [ 0.      ,  0.      ],\n",
       "       [ 0.      ,  0.      ],\n",
       "       [ 0.      ,  0.      ],\n",
       "       [ 0.      ,  0.      ],\n",
       "       [ 0.      ,  0.      ],\n",
       "       [ 0.      ,  0.      ],\n",
       "       [ 0.      ,  0.      ],\n",
       "       [ 0.      ,  0.      ],\n",
       "       [ 0.      ,  0.      ],\n",
       "       [ 0.      ,  0.      ],\n",
       "       [ 0.      ,  0.      ],\n",
       "       [ 0.      ,  0.      ],\n",
       "       [ 0.      ,  0.      ],\n",
       "       [ 0.      ,  0.      ],\n",
       "       [ 0.      ,  0.      ],\n",
       "       [ 0.      ,  0.      ],\n",
       "       [ 0.      ,  0.      ],\n",
       "       [ 0.      ,  0.      ],\n",
       "       [ 0.      ,  0.      ],\n",
       "       [ 0.      ,  0.      ],\n",
       "       [ 0.      ,  0.      ],\n",
       "       [ 0.      ,  0.      ],\n",
       "       [ 0.      ,  0.      ],\n",
       "       [ 0.      ,  0.      ],\n",
       "       [ 0.      ,  0.      ],\n",
       "       [ 0.      ,  0.      ],\n",
       "       [ 0.      ,  0.      ],\n",
       "       [ 0.      ,  0.      ],\n",
       "       [ 0.      ,  0.      ],\n",
       "       [ 0.      ,  0.      ],\n",
       "       [ 0.      ,  0.      ],\n",
       "       [ 0.      ,  0.      ],\n",
       "       [ 0.      ,  0.      ],\n",
       "       [ 0.      ,  0.      ],\n",
       "       [ 0.      ,  0.      ],\n",
       "       [ 0.      ,  0.      ],\n",
       "       [ 0.      ,  0.      ],\n",
       "       [ 0.      ,  0.      ],\n",
       "       [ 0.      ,  0.      ],\n",
       "       [ 0.      ,  0.      ],\n",
       "       [ 0.      ,  0.      ],\n",
       "       [ 0.      ,  0.      ],\n",
       "       [ 0.      ,  0.      ],\n",
       "       [ 0.      ,  0.      ],\n",
       "       [ 0.      ,  0.      ],\n",
       "       [ 0.      ,  0.      ],\n",
       "       [ 0.      ,  0.      ],\n",
       "       [ 0.      ,  0.      ],\n",
       "       [ 0.      ,  0.      ],\n",
       "       [ 0.      ,  0.      ],\n",
       "       [ 0.      ,  0.      ],\n",
       "       [ 0.      ,  0.      ],\n",
       "       [ 0.      ,  0.      ],\n",
       "       [ 0.      ,  0.      ],\n",
       "       [ 0.      ,  0.      ],\n",
       "       [ 0.      ,  0.      ],\n",
       "       [ 0.      ,  0.      ],\n",
       "       [ 0.      ,  0.      ],\n",
       "       [ 0.      ,  0.      ],\n",
       "       [ 0.      ,  0.      ],\n",
       "       [ 0.      ,  0.      ],\n",
       "       [ 0.      ,  0.      ],\n",
       "       [ 0.      ,  0.      ],\n",
       "       [ 0.      ,  0.      ],\n",
       "       [ 0.      ,  0.      ],\n",
       "       [ 0.      ,  0.      ],\n",
       "       [ 0.      ,  0.      ],\n",
       "       [ 0.      ,  0.      ],\n",
       "       [ 0.      ,  0.      ],\n",
       "       [ 0.      ,  0.      ],\n",
       "       [ 0.      ,  0.      ],\n",
       "       [ 0.      ,  0.      ],\n",
       "       [ 0.      ,  0.      ],\n",
       "       [ 0.      ,  0.      ],\n",
       "       [ 0.      ,  0.      ],\n",
       "       [ 0.      ,  0.      ],\n",
       "       [ 0.      ,  0.      ],\n",
       "       [ 0.      ,  0.      ],\n",
       "       [ 0.      ,  0.      ]], dtype=float32)"
      ]
     },
     "execution_count": 33,
     "metadata": {},
     "output_type": "execute_result"
    }
   ],
   "source": [
    "wh_input[k]"
   ]
  },
  {
   "cell_type": "code",
   "execution_count": null,
   "metadata": {},
   "outputs": [],
   "source": [
    "plt.imshow()"
   ]
  },
  {
   "cell_type": "code",
   "execution_count": 17,
   "metadata": {},
   "outputs": [
    {
     "data": {
      "text/plain": [
       "{0, 8}"
      ]
     },
     "execution_count": 17,
     "metadata": {},
     "output_type": "execute_result"
    }
   ],
   "source": [
    "set(np.reshape(np.argmax(hm_input[k], axis=-1),(-1,)).tolist())"
   ]
  },
  {
   "cell_type": "code",
   "execution_count": 34,
   "metadata": {},
   "outputs": [
    {
     "data": {
      "text/plain": [
       "array([12969., 12748.,     0.,     0.,     0.,     0.,     0.,     0.,\n",
       "           0.,     0.,     0.,     0.,     0.,     0.,     0.,     0.,\n",
       "           0.,     0.,     0.,     0.,     0.,     0.,     0.,     0.,\n",
       "           0.,     0.,     0.,     0.,     0.,     0.,     0.,     0.,\n",
       "           0.,     0.,     0.,     0.,     0.,     0.,     0.,     0.,\n",
       "           0.,     0.,     0.,     0.,     0.,     0.,     0.,     0.,\n",
       "           0.,     0.,     0.,     0.,     0.,     0.,     0.,     0.,\n",
       "           0.,     0.,     0.,     0.,     0.,     0.,     0.,     0.,\n",
       "           0.,     0.,     0.,     0.,     0.,     0.,     0.,     0.,\n",
       "           0.,     0.,     0.,     0.,     0.,     0.,     0.,     0.,\n",
       "           0.,     0.,     0.,     0.,     0.,     0.,     0.,     0.,\n",
       "           0.,     0.,     0.,     0.,     0.,     0.,     0.,     0.,\n",
       "           0.,     0.,     0.,     0.], dtype=float32)"
      ]
     },
     "execution_count": 34,
     "metadata": {},
     "output_type": "execute_result"
    }
   ],
   "source": [
    "index_input[k]"
   ]
  },
  {
   "cell_type": "code",
   "execution_count": 35,
   "metadata": {},
   "outputs": [
    {
     "data": {
      "text/plain": [
       "101"
      ]
     },
     "execution_count": 35,
     "metadata": {},
     "output_type": "execute_result"
    }
   ],
   "source": [
    "12969/128"
   ]
  },
  {
   "cell_type": "code",
   "execution_count": 36,
   "metadata": {},
   "outputs": [
    {
     "data": {
      "text/plain": [
       "array([0., 0., 0., 0., 0., 0., 0., 0., 0., 0., 0., 0., 0., 0., 0., 1., 0.,\n",
       "       0., 0., 0., 0., 0., 0., 0., 0., 0., 0., 0., 0., 0., 0., 0., 0., 0.,\n",
       "       0., 0., 0., 0., 0., 0., 0., 0., 0., 0., 0., 0., 0., 0., 0., 0., 0.,\n",
       "       0., 0., 0., 0., 0., 0., 0., 0., 0., 0., 0., 0., 0., 0., 0., 0., 0.,\n",
       "       0., 0., 0., 0., 0., 0., 0., 0., 0., 0., 0., 0.], dtype=float32)"
      ]
     },
     "execution_count": 36,
     "metadata": {},
     "output_type": "execute_result"
    }
   ],
   "source": [
    "hm_input[k].reshape((128*128,num_classes))[12969,:]"
   ]
  },
  {
   "cell_type": "code",
   "execution_count": 39,
   "metadata": {},
   "outputs": [
    {
     "data": {
      "text/plain": [
       "u'bird'"
      ]
     },
     "execution_count": 39,
     "metadata": {},
     "output_type": "execute_result"
    }
   ],
   "source": [
    "validation_generator.label_to_name(14)"
   ]
  },
  {
   "cell_type": "code",
   "execution_count": 104,
   "metadata": {},
   "outputs": [],
   "source": [
    "result = debug_model.predict(inp[k:k+1])"
   ]
  },
  {
   "cell_type": "code",
   "execution_count": 105,
   "metadata": {
    "scrolled": true
   },
   "outputs": [
    {
     "ename": "IndexError",
     "evalue": "list index out of range",
     "output_type": "error",
     "traceback": [
      "\u001b[0;31m\u001b[0m",
      "\u001b[0;31mIndexError\u001b[0mTraceback (most recent call last)",
      "\u001b[0;32m<ipython-input-105-197fab571fa5>\u001b[0m in \u001b[0;36m<module>\u001b[0;34m()\u001b[0m\n\u001b[0;32m----> 1\u001b[0;31m \u001b[0mresult\u001b[0m\u001b[0;34m[\u001b[0m\u001b[0mk\u001b[0m\u001b[0;34m]\u001b[0m\u001b[0;34m\u001b[0m\u001b[0m\n\u001b[0m",
      "\u001b[0;31mIndexError\u001b[0m: list index out of range"
     ]
    }
   ],
   "source": [
    "result[k]"
   ]
  },
  {
   "cell_type": "code",
   "execution_count": 106,
   "metadata": {
    "scrolled": true
   },
   "outputs": [
    {
     "data": {
      "text/plain": [
       "(1, 128, 128, 20)"
      ]
     },
     "execution_count": 106,
     "metadata": {},
     "output_type": "execute_result"
    }
   ],
   "source": [
    "result[0].shape"
   ]
  },
  {
   "cell_type": "code",
   "execution_count": 107,
   "metadata": {},
   "outputs": [
    {
     "data": {
      "text/plain": [
       "(1, 128, 128, 2)"
      ]
     },
     "execution_count": 107,
     "metadata": {},
     "output_type": "execute_result"
    }
   ],
   "source": [
    "result[1].shape"
   ]
  },
  {
   "cell_type": "code",
   "execution_count": 108,
   "metadata": {},
   "outputs": [
    {
     "data": {
      "text/plain": [
       "(1, 128, 128, 2)"
      ]
     },
     "execution_count": 108,
     "metadata": {},
     "output_type": "execute_result"
    }
   ],
   "source": [
    "result[2].shape"
   ]
  },
  {
   "cell_type": "code",
   "execution_count": 109,
   "metadata": {},
   "outputs": [
    {
     "ename": "IndexError",
     "evalue": "index 3 is out of bounds for axis 0 with size 1",
     "output_type": "error",
     "traceback": [
      "\u001b[0;31m\u001b[0m",
      "\u001b[0;31mIndexError\u001b[0mTraceback (most recent call last)",
      "\u001b[0;32m<ipython-input-109-21ffcc984029>\u001b[0m in \u001b[0;36m<module>\u001b[0;34m()\u001b[0m\n\u001b[0;32m----> 1\u001b[0;31m \u001b[0mresult\u001b[0m\u001b[0;34m[\u001b[0m\u001b[0;36m0\u001b[0m\u001b[0;34m]\u001b[0m\u001b[0;34m[\u001b[0m\u001b[0mk\u001b[0m\u001b[0;34m]\u001b[0m\u001b[0;34m[\u001b[0m\u001b[0;34m:\u001b[0m\u001b[0;34m,\u001b[0m\u001b[0;34m:\u001b[0m\u001b[0;34m,\u001b[0m\u001b[0;36m1\u001b[0m\u001b[0;34m]\u001b[0m\u001b[0;34m.\u001b[0m\u001b[0mmax\u001b[0m\u001b[0;34m(\u001b[0m\u001b[0;34m)\u001b[0m\u001b[0;34m\u001b[0m\u001b[0m\n\u001b[0m",
      "\u001b[0;31mIndexError\u001b[0m: index 3 is out of bounds for axis 0 with size 1"
     ]
    }
   ],
   "source": [
    "result[0][k][:,:,1].max()"
   ]
  },
  {
   "cell_type": "code",
   "execution_count": 110,
   "metadata": {},
   "outputs": [
    {
     "ename": "IndexError",
     "evalue": "index 3 is out of bounds for axis 0 with size 1",
     "output_type": "error",
     "traceback": [
      "\u001b[0;31m\u001b[0m",
      "\u001b[0;31mIndexError\u001b[0mTraceback (most recent call last)",
      "\u001b[0;32m<ipython-input-110-0e10c8f6a3a3>\u001b[0m in \u001b[0;36m<module>\u001b[0;34m()\u001b[0m\n\u001b[0;32m----> 1\u001b[0;31m \u001b[0mresult\u001b[0m\u001b[0;34m[\u001b[0m\u001b[0;36m1\u001b[0m\u001b[0;34m]\u001b[0m\u001b[0;34m[\u001b[0m\u001b[0mk\u001b[0m\u001b[0;34m]\u001b[0m\u001b[0;34m[\u001b[0m\u001b[0;36m63\u001b[0m\u001b[0;34m,\u001b[0m\u001b[0;36m65\u001b[0m\u001b[0;34m,\u001b[0m\u001b[0;34m:\u001b[0m\u001b[0;34m]\u001b[0m\u001b[0;34m\u001b[0m\u001b[0m\n\u001b[0m",
      "\u001b[0;31mIndexError\u001b[0m: index 3 is out of bounds for axis 0 with size 1"
     ]
    }
   ],
   "source": [
    "result[1][k][63,65,:]"
   ]
  },
  {
   "cell_type": "code",
   "execution_count": 89,
   "metadata": {},
   "outputs": [],
   "source": [
    "import numpy as np\n",
    "def focal_loss(hm_pred, hm_true):\n",
    "    pos_mask = hm_true==1\n",
    "    neg_mask = hm_true<1\n",
    "    neg_weights = np.power(1 - hm_true, 4)\n",
    "\n",
    "    pos_loss = -np.log(np.clip(hm_pred, 1e-4, 1. - 1e-4)) * np.power(1 - hm_pred, 2) * pos_mask\n",
    "    neg_loss = -np.log(np.clip(1 - hm_pred, 1e-4, 1. - 1e-4)) * np.power(hm_pred, 2) * neg_weights * neg_mask\n",
    "\n",
    "    num_pos = np.sum(pos_mask)\n",
    "    pos_loss = np.sum(pos_loss)\n",
    "    neg_loss = np.sum(neg_loss)\n",
    "    if num_pos > 0:\n",
    "        \n",
    "        cls_loss = (pos_loss + neg_loss) / num_pos\n",
    "    else:\n",
    "        cls_loss = neg_loss\n",
    "    return cls_loss\n",
    "\n",
    "\n",
    "def reg_l1_loss(y_pred, y_true, indices, mask):\n",
    "    b, h, w, c = y_pred.shape\n",
    "    k = indices.shape[1]\n",
    "    y_pred = np.reshape(y_pred, (h*w, c))\n",
    "    ii = np.tile(np.range(b)[:, np.newaxis], (1, k))\n",
    "    idx = np.stack([ii, indices], axis=-1)\n",
    "    y_pred = np.gather_nd(y_pred, idx)\n",
    "    mask = np.tile(mask[..., np.newaxis], (1, 1, 2))\n",
    "    total_loss = np.reduce_sum(np.abs(y_true * mask - y_pred * mask))\n",
    "    reg_loss = total_loss / (np.sum(mask) + 1e-4)\n",
    "    return reg_loss\n",
    "\n",
    "\n",
    "def loss(args):\n",
    "    hm_pred, wh_pred, reg_pred, hm_true, wh_true, reg_true, reg_mask, indices = args\n",
    "    hm_loss = focal_loss(hm_pred, hm_true)\n",
    "    wh_loss = 0.1 * reg_l1_loss(wh_pred, wh_true, indices, reg_mask)\n",
    "    reg_loss = reg_l1_loss(reg_pred, reg_true, indices, reg_mask)\n",
    "    total_loss = hm_loss + wh_loss + reg_loss\n",
    "    return total_loss\n"
   ]
  },
  {
   "cell_type": "code",
   "execution_count": 90,
   "metadata": {},
   "outputs": [
    {
     "data": {
      "text/plain": [
       "31.119937896728516"
      ]
     },
     "execution_count": 90,
     "metadata": {},
     "output_type": "execute_result"
    }
   ],
   "source": [
    "focal_loss(result[0], hm_input[k:k+1])"
   ]
  },
  {
   "cell_type": "code",
   "execution_count": 111,
   "metadata": {},
   "outputs": [
    {
     "data": {
      "text/plain": [
       "array([0.      , 0.      , 0.992218, 0.      , 0.      , 0.      ,\n",
       "       0.      , 0.      , 0.      , 0.      , 0.      , 0.      ,\n",
       "       0.      , 0.      , 0.      , 0.      , 0.      , 0.      ,\n",
       "       0.      , 0.      ], dtype=float32)"
      ]
     },
     "execution_count": 111,
     "metadata": {},
     "output_type": "execute_result"
    }
   ],
   "source": [
    "hm_input[k].reshape((128*128,20))[8130,:]"
   ]
  },
  {
   "cell_type": "code",
   "execution_count": null,
   "metadata": {},
   "outputs": [],
   "source": []
  },
  {
   "cell_type": "code",
   "execution_count": 100,
   "metadata": {},
   "outputs": [
    {
     "data": {
      "text/plain": [
       "<matplotlib.image.AxesImage at 0x7fa229251bd0>"
      ]
     },
     "execution_count": 100,
     "metadata": {},
     "output_type": "execute_result"
    },
    {
     "data": {
      "image/png": "[encoded data removed]",
      "text/plain": [
       "<Figure size 432x288 with 1 Axes>"
      ]
     },
     "metadata": {},
     "output_type": "display_data"
    }
   ],
   "source": [
    "plt.imshow(inp[k]/256+0.5)\n"
   ]
  },
  {
   "cell_type": "code",
   "execution_count": 19,
   "metadata": {},
   "outputs": [],
   "source": [
    "import numpy as np\n",
    "from numpy.lib.stride_tricks import as_strided\n",
    "\n",
    "def _pool2d(A, kernel_size, stride, padding, pool_mode='max'):\n",
    "    '''\n",
    "    2D Pooling\n",
    "\n",
    "    Parameters:\n",
    "        A: input 2D array\n",
    "        kernel_size: int, the size of the window\n",
    "        stride: int, the stride of the window\n",
    "        padding: int, implicit zero paddings on both sides of the input\n",
    "        pool_mode: string, 'max' or 'avg'\n",
    "    '''\n",
    "    # Padding\n",
    "    A = np.pad(A, padding, mode='constant')\n",
    "\n",
    "    # Window view of A\n",
    "    output_shape = ((A.shape[0] - kernel_size)//stride + 1,\n",
    "                    (A.shape[1] - kernel_size)//stride + 1)\n",
    "    kernel_size = (kernel_size, kernel_size)\n",
    "    A_w = as_strided(A, shape = output_shape + kernel_size,\n",
    "                        strides = (stride*A.strides[0],\n",
    "                                   stride*A.strides[1]) + A.strides)\n",
    "    A_w = A_w.reshape(-1, *kernel_size)\n",
    "\n",
    "    # Return the result of pooling\n",
    "    if pool_mode == 'max':\n",
    "        return A_w.max(axis=(1,2)).reshape(output_shape)\n",
    "    elif pool_mode == 'avg':\n",
    "        return A_w.mean(axis=(1,2)).reshape(output_shape)\n",
    "\n",
    "def _nms(heat,hmax=None, kernel=3):\n",
    "    # hmax = MaxPool2D(kernel, strides=1,padding='same')(heat)\n",
    "    # heat = tf.where(tf.equal(hmax, heat), heat, tf.zeros_like(heat))\n",
    "    if hmax is None:\n",
    "        hmax = np.zeros_like(heat)\n",
    "        b, h, w, c = heat.shape\n",
    "        for batch in range(b):\n",
    "            for channel in range(c):\n",
    "                hmax[batch,:,:,channel] = _pool2d(heat[batch,:,:,channel], kernel_size=kernel, stride=1, padding=1)\n",
    "    assert (heat.shape == hmax.shape)\n",
    "    # make non local max item zero\n",
    "    keep = heat==hmax\n",
    "    # heat[heat!=hmax] = 0\n",
    "    return heat*keep\n",
    "\n",
    "\n",
    "def _topk(hm, hmax=None, max_objects=100):\n",
    "    hm = _nms(hm,hmax)\n",
    "    b, h, w, c = hm.shape\n",
    "    # (b, h * w * c)\n",
    "    hm = hm.reshape((b, -1))\n",
    "    # (b, k), (b, k)\n",
    "    # scores, indices = tf.nn.top_k(hm, k=max_objects)\n",
    "    # scores2, indices2 = tf.nn.top_k(hm2, k=max_objects)\n",
    "    # scores2 = tf.reshape(scores2, (b, -1))\n",
    "    # topk = tf.nn.top_k(scores2, k=max_objects)\n",
    "    # get first k largest score np.argsort return from small to large\n",
    "\n",
    "    # (b, k)\n",
    "    indices = np.argsort(-hm, axis=-1)[:,:max_objects]\n",
    "    # (b, k)\n",
    "    scores = np.zeros((b,max_objects))\n",
    "    for batch in range(b):\n",
    "        scores[batch,:] = hm[batch,indices[batch]]\n",
    "    # all (b, k)\n",
    "    class_ids = indices % c\n",
    "    xs = indices // c % w\n",
    "    ys = indices // c // w\n",
    "    indices = ys * w + xs\n",
    "    return scores, indices, class_ids, xs, ys\n",
    "#\n",
    "# def evaluate_batch_item(batch_item_detections, num_classes, max_objects_per_class=20, max_objects=100,\n",
    "#                         iou_threshold=0.5, score_threshold=0.1):\n",
    "#     batch_item_detections = tf.boolean_mask(batch_item_detections,\n",
    "#                                             tf.greater(batch_item_detections[:, 4], score_threshold))\n",
    "#     detections_per_class = []\n",
    "#     for cls_id in range(num_classes):\n",
    "#         class_detections = tf.boolean_mask(batch_item_detections, tf.equal(batch_item_detections[:, 5], cls_id))\n",
    "#         nms_keep_indices = tf.image.non_max_suppression(class_detections[:, :4],\n",
    "#                                                         class_detections[:, 4],\n",
    "#                                                         max_objects_per_class,\n",
    "#                                                         iou_threshold=iou_threshold)\n",
    "#         class_detections = K.gather(class_detections, nms_keep_indices)\n",
    "#         detections_per_class.append(class_detections)\n",
    "#\n",
    "#     batch_item_detections = K.concatenate(detections_per_class, axis=0)\n",
    "#\n",
    "#     def filter():\n",
    "#         # nonlocal batch_item_detections\n",
    "#         _, indices = tf.nn.top_k(batch_item_detections[:, 4], k=max_objects)\n",
    "#         batch_item_detections_ = tf.gather(batch_item_detections, indices)\n",
    "#         return batch_item_detections_\n",
    "#\n",
    "#     def pad():\n",
    "#         # nonlocal batch_item_detections\n",
    "#         batch_item_num_detections = tf.shape(batch_item_detections)[0]\n",
    "#         batch_item_num_pad = tf.maximum(max_objects - batch_item_num_detections, 0)\n",
    "#         batch_item_detections_ = tf.pad(tensor=batch_item_detections,\n",
    "#                                         paddings=[\n",
    "#                                             [0, batch_item_num_pad],\n",
    "#                                             [0, 0]],\n",
    "#                                         mode='CONSTANT',\n",
    "#                                         constant_values=0.0)\n",
    "#         return batch_item_detections_\n",
    "#\n",
    "#     batch_item_detections = tf.cond(tf.shape(batch_item_detections)[0] >= 100,\n",
    "#                                     filter,\n",
    "#                                     pad)\n",
    "#     return batch_item_detections\n",
    "\n",
    "\n",
    "def postprocess_(hm, wh, reg, hmax=None, max_objects=100, cat_spec_wh=False,\n",
    "                 nms=True, num_classes=20, score_threshold=0.1):\n",
    "    # if flip_test:\n",
    "    #     hm = (hm[0:1] + hm[1:2, :, ::-1]) / 2\n",
    "    #     wh = (wh[0:1] + wh[1:2, :, ::-1]) / 2\n",
    "    #     reg = reg[0:1]\n",
    "    scores, indices, class_ids, xs, ys = _topk(hm, hmax=hmax, max_objects=max_objects)\n",
    "    b, h, w, c = hm.shape\n",
    "    # c is num of class\n",
    "    # (b, h * w, 2)\n",
    "    c_reg = reg.shape[-1]\n",
    "    reg = np.reshape(reg, (b, h*w, c_reg))\n",
    "\n",
    "    # (b, h * w, 2)\n",
    "    c_wh = wh.shape[-1]\n",
    "    wh = np.reshape(wh, (b, h*w, c_wh))\n",
    "\n",
    "    # -----------------tensor code------------------------\n",
    "    # (b, k, 2)\n",
    "    # ii = tf.tile(tf.range(tf.shape(reg)[0])[:, tf.newaxis], (1, max_objects))\n",
    "    # idx = tf.stack([ii, indices], axis=-1)\n",
    "    # topk_reg = tf.gather_nd(reg, idx)\n",
    "    # (b, k, 2)\n",
    "    # topk_wh = tf.cast(tf.gather_nd(wh, idx), tf.float32)\n",
    "    # topk_cx = tf.cast(tf.expand_dims(xs, axis=-1), tf.float32) + topk_reg[..., 0:1]\n",
    "    # topk_cy = tf.cast(tf.expand_dims(ys, axis=-1), tf.float32) + topk_reg[..., 1:2]\n",
    "    # scores = tf.expand_dims(scores, axis=-1)\n",
    "    # class_ids = tf.cast(tf.expand_dims(class_ids, axis=-1), tf.float32)\n",
    "    # --------------------------------------------------\n",
    "    \n",
    "    # (b, k, 2)\n",
    "    assert(c_reg==2)\n",
    "    topk_reg = np.zeros((b, max_objects, c_reg))\n",
    "    for batch in range(b):\n",
    "        topk_reg[batch, :, :] = reg[batch, indices[batch]]\n",
    "\n",
    "    # (b, k, 2)\n",
    "    topk_wh = np.zeros((b, max_objects, 2))\n",
    "    if not cat_spec_wh:\n",
    "        assert(c_wh==2)\n",
    "        for batch in range(b):\n",
    "            topk_wh[batch,:] = wh[batch, indices[batch]]\n",
    "    else:\n",
    "        assert(c_wh==2*c)\n",
    "        wh = np.reshape(wh, (b, h*w, c, 2))\n",
    "        for batch in range(b):\n",
    "            # (k, c, 2)\n",
    "            tmp = wh[batch, indices[batch]]\n",
    "            for k in range(max_objects):\n",
    "                topk_wh[batch, k, :] = tmp[k, class_ids[batch, k], :]\n",
    "    \n",
    "\n",
    "    # (b, k, 1)\n",
    "    topk_cx = np.expand_dims(xs, axis=-1) + topk_reg[...,0:1]\n",
    "    topk_cy = np.expand_dims(ys, axis=-1) + topk_reg[...,1:2]\n",
    "    # (b, k, 1)\n",
    "    scores = np.expand_dims(scores, axis=-1)\n",
    "    class_ids = np.expand_dims(class_ids, axis=-1)\n",
    "\n",
    "    topk_x1 = topk_cx - topk_wh[..., 0:1] / 2\n",
    "    topk_x2 = topk_cx + topk_wh[..., 0:1] / 2\n",
    "    topk_y1 = topk_cy - topk_wh[..., 1:2] / 2\n",
    "    topk_y2 = topk_cy + topk_wh[..., 1:2] / 2\n",
    "    # (b, k, 6)\n",
    "    detections = np.concatenate([topk_x1, topk_y1, topk_x2, topk_y2, scores, class_ids], axis=-1)\n",
    "\n",
    "    # detections = tf.concat([topk_x1, topk_y1, topk_x2, topk_y2, scores, class_ids], axis=-1)\n",
    "    # if nms:\n",
    "    #     detections = tf.map_fn(lambda x: evaluate_batch_item(x[0],\n",
    "    #                                                          num_classes=num_classes,\n",
    "    #                                                          score_threshold=score_threshold),\n",
    "    #                            elems=[detections],\n",
    "    #                            dtype=tf.float32)\n",
    "    return detections\n"
   ]
  },
  {
   "cell_type": "code",
   "execution_count": null,
   "metadata": {},
   "outputs": [],
   "source": []
  }
 ],
 "metadata": {
  "kernelspec": {
   "display_name": "Python 2",
   "language": "python",
   "name": "python2"
  }
 },
 "nbformat": 4,
 "nbformat_minor": 2
}
